{
  "nbformat": 4,
  "nbformat_minor": 0,
  "metadata": {
    "colab": {
      "name": "part_a.ipynb",
      "provenance": [],
      "collapsed_sections": [],
      "mount_file_id": "1cwghL66_oa5OQgRaa6Knd3S1jOakDJZ0",
      "authorship_tag": "ABX9TyNx2A6mE6OiaqXa+atx9P1t",
      "include_colab_link": true
    },
    "kernelspec": {
      "name": "python3",
      "display_name": "Python 3"
    },
    "language_info": {
      "name": "python"
    },
    "accelerator": "GPU",
    "widgets": {
      "application/vnd.jupyter.widget-state+json": {
        "8cfad48dea3e4999bc402c7fab59d04b": {
          "model_module": "@jupyter-widgets/controls",
          "model_name": "VBoxModel",
          "state": {
            "_view_name": "VBoxView",
            "_dom_classes": [],
            "_model_name": "VBoxModel",
            "_view_module": "@jupyter-widgets/controls",
            "_model_module_version": "1.5.0",
            "_view_count": null,
            "_view_module_version": "1.5.0",
            "box_style": "",
            "layout": "IPY_MODEL_17537a8f02104e0fa06072f80d7e9eb8",
            "_model_module": "@jupyter-widgets/controls",
            "children": [
              "IPY_MODEL_1d1bfe7b31fa4d69b694789f5d10d86e",
              "IPY_MODEL_d44056c44d62469791c873c09f708190"
            ]
          }
        },
        "17537a8f02104e0fa06072f80d7e9eb8": {
          "model_module": "@jupyter-widgets/base",
          "model_name": "LayoutModel",
          "state": {
            "_view_name": "LayoutView",
            "grid_template_rows": null,
            "right": null,
            "justify_content": null,
            "_view_module": "@jupyter-widgets/base",
            "overflow": null,
            "_model_module_version": "1.2.0",
            "_view_count": null,
            "flex_flow": null,
            "width": null,
            "min_width": null,
            "border": null,
            "align_items": null,
            "bottom": null,
            "_model_module": "@jupyter-widgets/base",
            "top": null,
            "grid_column": null,
            "overflow_y": null,
            "overflow_x": null,
            "grid_auto_flow": null,
            "grid_area": null,
            "grid_template_columns": null,
            "flex": null,
            "_model_name": "LayoutModel",
            "justify_items": null,
            "grid_row": null,
            "max_height": null,
            "align_content": null,
            "visibility": null,
            "align_self": null,
            "height": null,
            "min_height": null,
            "padding": null,
            "grid_auto_rows": null,
            "grid_gap": null,
            "max_width": null,
            "order": null,
            "_view_module_version": "1.2.0",
            "grid_template_areas": null,
            "object_position": null,
            "object_fit": null,
            "grid_auto_columns": null,
            "margin": null,
            "display": null,
            "left": null
          }
        },
        "1d1bfe7b31fa4d69b694789f5d10d86e": {
          "model_module": "@jupyter-widgets/controls",
          "model_name": "LabelModel",
          "state": {
            "_view_name": "LabelView",
            "style": "IPY_MODEL_625f21e76d5c4ae7967b8bc3f8462fcb",
            "_dom_classes": [],
            "description": "",
            "_model_name": "LabelModel",
            "placeholder": "​",
            "_view_module": "@jupyter-widgets/controls",
            "_model_module_version": "1.5.0",
            "value": " 1.22MB of 1.22MB uploaded (0.00MB deduped)\r",
            "_view_count": null,
            "_view_module_version": "1.5.0",
            "description_tooltip": null,
            "_model_module": "@jupyter-widgets/controls",
            "layout": "IPY_MODEL_cf3776252d43485c9b0929a8912fdbfa"
          }
        },
        "d44056c44d62469791c873c09f708190": {
          "model_module": "@jupyter-widgets/controls",
          "model_name": "FloatProgressModel",
          "state": {
            "_view_name": "ProgressView",
            "style": "IPY_MODEL_5d7fcb1fb5db4214ac5094317e5327d3",
            "_dom_classes": [],
            "description": "",
            "_model_name": "FloatProgressModel",
            "bar_style": "",
            "max": 1,
            "_view_module": "@jupyter-widgets/controls",
            "_model_module_version": "1.5.0",
            "value": 1,
            "_view_count": null,
            "_view_module_version": "1.5.0",
            "orientation": "horizontal",
            "min": 0,
            "description_tooltip": null,
            "_model_module": "@jupyter-widgets/controls",
            "layout": "IPY_MODEL_27b14c1305a144339d9a6c9959bdbf91"
          }
        },
        "625f21e76d5c4ae7967b8bc3f8462fcb": {
          "model_module": "@jupyter-widgets/controls",
          "model_name": "DescriptionStyleModel",
          "state": {
            "_view_name": "StyleView",
            "_model_name": "DescriptionStyleModel",
            "description_width": "",
            "_view_module": "@jupyter-widgets/base",
            "_model_module_version": "1.5.0",
            "_view_count": null,
            "_view_module_version": "1.2.0",
            "_model_module": "@jupyter-widgets/controls"
          }
        },
        "cf3776252d43485c9b0929a8912fdbfa": {
          "model_module": "@jupyter-widgets/base",
          "model_name": "LayoutModel",
          "state": {
            "_view_name": "LayoutView",
            "grid_template_rows": null,
            "right": null,
            "justify_content": null,
            "_view_module": "@jupyter-widgets/base",
            "overflow": null,
            "_model_module_version": "1.2.0",
            "_view_count": null,
            "flex_flow": null,
            "width": null,
            "min_width": null,
            "border": null,
            "align_items": null,
            "bottom": null,
            "_model_module": "@jupyter-widgets/base",
            "top": null,
            "grid_column": null,
            "overflow_y": null,
            "overflow_x": null,
            "grid_auto_flow": null,
            "grid_area": null,
            "grid_template_columns": null,
            "flex": null,
            "_model_name": "LayoutModel",
            "justify_items": null,
            "grid_row": null,
            "max_height": null,
            "align_content": null,
            "visibility": null,
            "align_self": null,
            "height": null,
            "min_height": null,
            "padding": null,
            "grid_auto_rows": null,
            "grid_gap": null,
            "max_width": null,
            "order": null,
            "_view_module_version": "1.2.0",
            "grid_template_areas": null,
            "object_position": null,
            "object_fit": null,
            "grid_auto_columns": null,
            "margin": null,
            "display": null,
            "left": null
          }
        },
        "5d7fcb1fb5db4214ac5094317e5327d3": {
          "model_module": "@jupyter-widgets/controls",
          "model_name": "ProgressStyleModel",
          "state": {
            "_view_name": "StyleView",
            "_model_name": "ProgressStyleModel",
            "description_width": "",
            "_view_module": "@jupyter-widgets/base",
            "_model_module_version": "1.5.0",
            "_view_count": null,
            "_view_module_version": "1.2.0",
            "bar_color": null,
            "_model_module": "@jupyter-widgets/controls"
          }
        },
        "27b14c1305a144339d9a6c9959bdbf91": {
          "model_module": "@jupyter-widgets/base",
          "model_name": "LayoutModel",
          "state": {
            "_view_name": "LayoutView",
            "grid_template_rows": null,
            "right": null,
            "justify_content": null,
            "_view_module": "@jupyter-widgets/base",
            "overflow": null,
            "_model_module_version": "1.2.0",
            "_view_count": null,
            "flex_flow": null,
            "width": null,
            "min_width": null,
            "border": null,
            "align_items": null,
            "bottom": null,
            "_model_module": "@jupyter-widgets/base",
            "top": null,
            "grid_column": null,
            "overflow_y": null,
            "overflow_x": null,
            "grid_auto_flow": null,
            "grid_area": null,
            "grid_template_columns": null,
            "flex": null,
            "_model_name": "LayoutModel",
            "justify_items": null,
            "grid_row": null,
            "max_height": null,
            "align_content": null,
            "visibility": null,
            "align_self": null,
            "height": null,
            "min_height": null,
            "padding": null,
            "grid_auto_rows": null,
            "grid_gap": null,
            "max_width": null,
            "order": null,
            "_view_module_version": "1.2.0",
            "grid_template_areas": null,
            "object_position": null,
            "object_fit": null,
            "grid_auto_columns": null,
            "margin": null,
            "display": null,
            "left": null
          }
        },
        "d7e42ed544fa4742b0ed2c77f2502273": {
          "model_module": "@jupyter-widgets/controls",
          "model_name": "VBoxModel",
          "state": {
            "_view_name": "VBoxView",
            "_dom_classes": [],
            "_model_name": "VBoxModel",
            "_view_module": "@jupyter-widgets/controls",
            "_model_module_version": "1.5.0",
            "_view_count": null,
            "_view_module_version": "1.5.0",
            "box_style": "",
            "layout": "IPY_MODEL_565bcf52c6c841f48a2200a6d31e147c",
            "_model_module": "@jupyter-widgets/controls",
            "children": [
              "IPY_MODEL_340257dec0e84c18adfd0613bf0d95cd",
              "IPY_MODEL_94c519036c7943828c5a04a1cb7d563c"
            ]
          }
        },
        "565bcf52c6c841f48a2200a6d31e147c": {
          "model_module": "@jupyter-widgets/base",
          "model_name": "LayoutModel",
          "state": {
            "_view_name": "LayoutView",
            "grid_template_rows": null,
            "right": null,
            "justify_content": null,
            "_view_module": "@jupyter-widgets/base",
            "overflow": null,
            "_model_module_version": "1.2.0",
            "_view_count": null,
            "flex_flow": null,
            "width": null,
            "min_width": null,
            "border": null,
            "align_items": null,
            "bottom": null,
            "_model_module": "@jupyter-widgets/base",
            "top": null,
            "grid_column": null,
            "overflow_y": null,
            "overflow_x": null,
            "grid_auto_flow": null,
            "grid_area": null,
            "grid_template_columns": null,
            "flex": null,
            "_model_name": "LayoutModel",
            "justify_items": null,
            "grid_row": null,
            "max_height": null,
            "align_content": null,
            "visibility": null,
            "align_self": null,
            "height": null,
            "min_height": null,
            "padding": null,
            "grid_auto_rows": null,
            "grid_gap": null,
            "max_width": null,
            "order": null,
            "_view_module_version": "1.2.0",
            "grid_template_areas": null,
            "object_position": null,
            "object_fit": null,
            "grid_auto_columns": null,
            "margin": null,
            "display": null,
            "left": null
          }
        },
        "340257dec0e84c18adfd0613bf0d95cd": {
          "model_module": "@jupyter-widgets/controls",
          "model_name": "LabelModel",
          "state": {
            "_view_name": "LabelView",
            "style": "IPY_MODEL_2e543d72f05446bfb91e2c6aaea02843",
            "_dom_classes": [],
            "description": "",
            "_model_name": "LabelModel",
            "placeholder": "​",
            "_view_module": "@jupyter-widgets/controls",
            "_model_module_version": "1.5.0",
            "value": " 0.01MB of 0.01MB uploaded (0.00MB deduped)\r",
            "_view_count": null,
            "_view_module_version": "1.5.0",
            "description_tooltip": null,
            "_model_module": "@jupyter-widgets/controls",
            "layout": "IPY_MODEL_0272539884064d468045defa76fa1c65"
          }
        },
        "94c519036c7943828c5a04a1cb7d563c": {
          "model_module": "@jupyter-widgets/controls",
          "model_name": "FloatProgressModel",
          "state": {
            "_view_name": "ProgressView",
            "style": "IPY_MODEL_cdc3abb8c77e457e966e7f83336d0b00",
            "_dom_classes": [],
            "description": "",
            "_model_name": "FloatProgressModel",
            "bar_style": "",
            "max": 1,
            "_view_module": "@jupyter-widgets/controls",
            "_model_module_version": "1.5.0",
            "value": 1,
            "_view_count": null,
            "_view_module_version": "1.5.0",
            "orientation": "horizontal",
            "min": 0,
            "description_tooltip": null,
            "_model_module": "@jupyter-widgets/controls",
            "layout": "IPY_MODEL_fcc064054993468e9357abd8b77b7fb4"
          }
        },
        "2e543d72f05446bfb91e2c6aaea02843": {
          "model_module": "@jupyter-widgets/controls",
          "model_name": "DescriptionStyleModel",
          "state": {
            "_view_name": "StyleView",
            "_model_name": "DescriptionStyleModel",
            "description_width": "",
            "_view_module": "@jupyter-widgets/base",
            "_model_module_version": "1.5.0",
            "_view_count": null,
            "_view_module_version": "1.2.0",
            "_model_module": "@jupyter-widgets/controls"
          }
        },
        "0272539884064d468045defa76fa1c65": {
          "model_module": "@jupyter-widgets/base",
          "model_name": "LayoutModel",
          "state": {
            "_view_name": "LayoutView",
            "grid_template_rows": null,
            "right": null,
            "justify_content": null,
            "_view_module": "@jupyter-widgets/base",
            "overflow": null,
            "_model_module_version": "1.2.0",
            "_view_count": null,
            "flex_flow": null,
            "width": null,
            "min_width": null,
            "border": null,
            "align_items": null,
            "bottom": null,
            "_model_module": "@jupyter-widgets/base",
            "top": null,
            "grid_column": null,
            "overflow_y": null,
            "overflow_x": null,
            "grid_auto_flow": null,
            "grid_area": null,
            "grid_template_columns": null,
            "flex": null,
            "_model_name": "LayoutModel",
            "justify_items": null,
            "grid_row": null,
            "max_height": null,
            "align_content": null,
            "visibility": null,
            "align_self": null,
            "height": null,
            "min_height": null,
            "padding": null,
            "grid_auto_rows": null,
            "grid_gap": null,
            "max_width": null,
            "order": null,
            "_view_module_version": "1.2.0",
            "grid_template_areas": null,
            "object_position": null,
            "object_fit": null,
            "grid_auto_columns": null,
            "margin": null,
            "display": null,
            "left": null
          }
        },
        "cdc3abb8c77e457e966e7f83336d0b00": {
          "model_module": "@jupyter-widgets/controls",
          "model_name": "ProgressStyleModel",
          "state": {
            "_view_name": "StyleView",
            "_model_name": "ProgressStyleModel",
            "description_width": "",
            "_view_module": "@jupyter-widgets/base",
            "_model_module_version": "1.5.0",
            "_view_count": null,
            "_view_module_version": "1.2.0",
            "bar_color": null,
            "_model_module": "@jupyter-widgets/controls"
          }
        },
        "fcc064054993468e9357abd8b77b7fb4": {
          "model_module": "@jupyter-widgets/base",
          "model_name": "LayoutModel",
          "state": {
            "_view_name": "LayoutView",
            "grid_template_rows": null,
            "right": null,
            "justify_content": null,
            "_view_module": "@jupyter-widgets/base",
            "overflow": null,
            "_model_module_version": "1.2.0",
            "_view_count": null,
            "flex_flow": null,
            "width": null,
            "min_width": null,
            "border": null,
            "align_items": null,
            "bottom": null,
            "_model_module": "@jupyter-widgets/base",
            "top": null,
            "grid_column": null,
            "overflow_y": null,
            "overflow_x": null,
            "grid_auto_flow": null,
            "grid_area": null,
            "grid_template_columns": null,
            "flex": null,
            "_model_name": "LayoutModel",
            "justify_items": null,
            "grid_row": null,
            "max_height": null,
            "align_content": null,
            "visibility": null,
            "align_self": null,
            "height": null,
            "min_height": null,
            "padding": null,
            "grid_auto_rows": null,
            "grid_gap": null,
            "max_width": null,
            "order": null,
            "_view_module_version": "1.2.0",
            "grid_template_areas": null,
            "object_position": null,
            "object_fit": null,
            "grid_auto_columns": null,
            "margin": null,
            "display": null,
            "left": null
          }
        },
        "ceac090826de4cf2b9f289e56efcc508": {
          "model_module": "@jupyter-widgets/controls",
          "model_name": "VBoxModel",
          "state": {
            "_view_name": "VBoxView",
            "_dom_classes": [],
            "_model_name": "VBoxModel",
            "_view_module": "@jupyter-widgets/controls",
            "_model_module_version": "1.5.0",
            "_view_count": null,
            "_view_module_version": "1.5.0",
            "box_style": "",
            "layout": "IPY_MODEL_393a3aaa7f0c492cb390d038ed050a1b",
            "_model_module": "@jupyter-widgets/controls",
            "children": [
              "IPY_MODEL_7f91db35a29c4dbe902b0405a12bfcd1",
              "IPY_MODEL_cd3520cb2f61408f9703e33dad237257"
            ]
          }
        },
        "393a3aaa7f0c492cb390d038ed050a1b": {
          "model_module": "@jupyter-widgets/base",
          "model_name": "LayoutModel",
          "state": {
            "_view_name": "LayoutView",
            "grid_template_rows": null,
            "right": null,
            "justify_content": null,
            "_view_module": "@jupyter-widgets/base",
            "overflow": null,
            "_model_module_version": "1.2.0",
            "_view_count": null,
            "flex_flow": null,
            "width": null,
            "min_width": null,
            "border": null,
            "align_items": null,
            "bottom": null,
            "_model_module": "@jupyter-widgets/base",
            "top": null,
            "grid_column": null,
            "overflow_y": null,
            "overflow_x": null,
            "grid_auto_flow": null,
            "grid_area": null,
            "grid_template_columns": null,
            "flex": null,
            "_model_name": "LayoutModel",
            "justify_items": null,
            "grid_row": null,
            "max_height": null,
            "align_content": null,
            "visibility": null,
            "align_self": null,
            "height": null,
            "min_height": null,
            "padding": null,
            "grid_auto_rows": null,
            "grid_gap": null,
            "max_width": null,
            "order": null,
            "_view_module_version": "1.2.0",
            "grid_template_areas": null,
            "object_position": null,
            "object_fit": null,
            "grid_auto_columns": null,
            "margin": null,
            "display": null,
            "left": null
          }
        },
        "7f91db35a29c4dbe902b0405a12bfcd1": {
          "model_module": "@jupyter-widgets/controls",
          "model_name": "LabelModel",
          "state": {
            "_view_name": "LabelView",
            "style": "IPY_MODEL_7d5dd44cab5f4280920292a002a18aab",
            "_dom_classes": [],
            "description": "",
            "_model_name": "LabelModel",
            "placeholder": "​",
            "_view_module": "@jupyter-widgets/controls",
            "_model_module_version": "1.5.0",
            "value": " 1.48MB of 1.48MB uploaded (0.00MB deduped)\r",
            "_view_count": null,
            "_view_module_version": "1.5.0",
            "description_tooltip": null,
            "_model_module": "@jupyter-widgets/controls",
            "layout": "IPY_MODEL_196a6e1777fe4a7c8111fdd6a9d39853"
          }
        },
        "cd3520cb2f61408f9703e33dad237257": {
          "model_module": "@jupyter-widgets/controls",
          "model_name": "FloatProgressModel",
          "state": {
            "_view_name": "ProgressView",
            "style": "IPY_MODEL_0733597fc5bd4dcdbcf326e1b97c0617",
            "_dom_classes": [],
            "description": "",
            "_model_name": "FloatProgressModel",
            "bar_style": "",
            "max": 1,
            "_view_module": "@jupyter-widgets/controls",
            "_model_module_version": "1.5.0",
            "value": 1,
            "_view_count": null,
            "_view_module_version": "1.5.0",
            "orientation": "horizontal",
            "min": 0,
            "description_tooltip": null,
            "_model_module": "@jupyter-widgets/controls",
            "layout": "IPY_MODEL_f9e8b8a420924c05b4596aba1ffee00b"
          }
        },
        "7d5dd44cab5f4280920292a002a18aab": {
          "model_module": "@jupyter-widgets/controls",
          "model_name": "DescriptionStyleModel",
          "state": {
            "_view_name": "StyleView",
            "_model_name": "DescriptionStyleModel",
            "description_width": "",
            "_view_module": "@jupyter-widgets/base",
            "_model_module_version": "1.5.0",
            "_view_count": null,
            "_view_module_version": "1.2.0",
            "_model_module": "@jupyter-widgets/controls"
          }
        },
        "196a6e1777fe4a7c8111fdd6a9d39853": {
          "model_module": "@jupyter-widgets/base",
          "model_name": "LayoutModel",
          "state": {
            "_view_name": "LayoutView",
            "grid_template_rows": null,
            "right": null,
            "justify_content": null,
            "_view_module": "@jupyter-widgets/base",
            "overflow": null,
            "_model_module_version": "1.2.0",
            "_view_count": null,
            "flex_flow": null,
            "width": null,
            "min_width": null,
            "border": null,
            "align_items": null,
            "bottom": null,
            "_model_module": "@jupyter-widgets/base",
            "top": null,
            "grid_column": null,
            "overflow_y": null,
            "overflow_x": null,
            "grid_auto_flow": null,
            "grid_area": null,
            "grid_template_columns": null,
            "flex": null,
            "_model_name": "LayoutModel",
            "justify_items": null,
            "grid_row": null,
            "max_height": null,
            "align_content": null,
            "visibility": null,
            "align_self": null,
            "height": null,
            "min_height": null,
            "padding": null,
            "grid_auto_rows": null,
            "grid_gap": null,
            "max_width": null,
            "order": null,
            "_view_module_version": "1.2.0",
            "grid_template_areas": null,
            "object_position": null,
            "object_fit": null,
            "grid_auto_columns": null,
            "margin": null,
            "display": null,
            "left": null
          }
        },
        "0733597fc5bd4dcdbcf326e1b97c0617": {
          "model_module": "@jupyter-widgets/controls",
          "model_name": "ProgressStyleModel",
          "state": {
            "_view_name": "StyleView",
            "_model_name": "ProgressStyleModel",
            "description_width": "",
            "_view_module": "@jupyter-widgets/base",
            "_model_module_version": "1.5.0",
            "_view_count": null,
            "_view_module_version": "1.2.0",
            "bar_color": null,
            "_model_module": "@jupyter-widgets/controls"
          }
        },
        "f9e8b8a420924c05b4596aba1ffee00b": {
          "model_module": "@jupyter-widgets/base",
          "model_name": "LayoutModel",
          "state": {
            "_view_name": "LayoutView",
            "grid_template_rows": null,
            "right": null,
            "justify_content": null,
            "_view_module": "@jupyter-widgets/base",
            "overflow": null,
            "_model_module_version": "1.2.0",
            "_view_count": null,
            "flex_flow": null,
            "width": null,
            "min_width": null,
            "border": null,
            "align_items": null,
            "bottom": null,
            "_model_module": "@jupyter-widgets/base",
            "top": null,
            "grid_column": null,
            "overflow_y": null,
            "overflow_x": null,
            "grid_auto_flow": null,
            "grid_area": null,
            "grid_template_columns": null,
            "flex": null,
            "_model_name": "LayoutModel",
            "justify_items": null,
            "grid_row": null,
            "max_height": null,
            "align_content": null,
            "visibility": null,
            "align_self": null,
            "height": null,
            "min_height": null,
            "padding": null,
            "grid_auto_rows": null,
            "grid_gap": null,
            "max_width": null,
            "order": null,
            "_view_module_version": "1.2.0",
            "grid_template_areas": null,
            "object_position": null,
            "object_fit": null,
            "grid_auto_columns": null,
            "margin": null,
            "display": null,
            "left": null
          }
        },
        "8de9331983c94d168ff1477c90f5faf8": {
          "model_module": "@jupyter-widgets/controls",
          "model_name": "VBoxModel",
          "state": {
            "_view_name": "VBoxView",
            "_dom_classes": [],
            "_model_name": "VBoxModel",
            "_view_module": "@jupyter-widgets/controls",
            "_model_module_version": "1.5.0",
            "_view_count": null,
            "_view_module_version": "1.5.0",
            "box_style": "",
            "layout": "IPY_MODEL_bf7705b17a614ad1a2c1085fca485060",
            "_model_module": "@jupyter-widgets/controls",
            "children": [
              "IPY_MODEL_d7c6663a202a4cee80d38060d52629dc",
              "IPY_MODEL_123f9f8089f8415c928cfd3880f4fe38"
            ]
          }
        },
        "bf7705b17a614ad1a2c1085fca485060": {
          "model_module": "@jupyter-widgets/base",
          "model_name": "LayoutModel",
          "state": {
            "_view_name": "LayoutView",
            "grid_template_rows": null,
            "right": null,
            "justify_content": null,
            "_view_module": "@jupyter-widgets/base",
            "overflow": null,
            "_model_module_version": "1.2.0",
            "_view_count": null,
            "flex_flow": null,
            "width": null,
            "min_width": null,
            "border": null,
            "align_items": null,
            "bottom": null,
            "_model_module": "@jupyter-widgets/base",
            "top": null,
            "grid_column": null,
            "overflow_y": null,
            "overflow_x": null,
            "grid_auto_flow": null,
            "grid_area": null,
            "grid_template_columns": null,
            "flex": null,
            "_model_name": "LayoutModel",
            "justify_items": null,
            "grid_row": null,
            "max_height": null,
            "align_content": null,
            "visibility": null,
            "align_self": null,
            "height": null,
            "min_height": null,
            "padding": null,
            "grid_auto_rows": null,
            "grid_gap": null,
            "max_width": null,
            "order": null,
            "_view_module_version": "1.2.0",
            "grid_template_areas": null,
            "object_position": null,
            "object_fit": null,
            "grid_auto_columns": null,
            "margin": null,
            "display": null,
            "left": null
          }
        },
        "d7c6663a202a4cee80d38060d52629dc": {
          "model_module": "@jupyter-widgets/controls",
          "model_name": "LabelModel",
          "state": {
            "_view_name": "LabelView",
            "style": "IPY_MODEL_a681bcfd19ad4a4789b816f01dc070e4",
            "_dom_classes": [],
            "description": "",
            "_model_name": "LabelModel",
            "placeholder": "​",
            "_view_module": "@jupyter-widgets/controls",
            "_model_module_version": "1.5.0",
            "value": " 0.01MB of 0.01MB uploaded (0.00MB deduped)\r",
            "_view_count": null,
            "_view_module_version": "1.5.0",
            "description_tooltip": null,
            "_model_module": "@jupyter-widgets/controls",
            "layout": "IPY_MODEL_b2182bfb5e45436688caf34e25f38520"
          }
        },
        "123f9f8089f8415c928cfd3880f4fe38": {
          "model_module": "@jupyter-widgets/controls",
          "model_name": "FloatProgressModel",
          "state": {
            "_view_name": "ProgressView",
            "style": "IPY_MODEL_0ff855f635924673b92a95152684ee63",
            "_dom_classes": [],
            "description": "",
            "_model_name": "FloatProgressModel",
            "bar_style": "",
            "max": 1,
            "_view_module": "@jupyter-widgets/controls",
            "_model_module_version": "1.5.0",
            "value": 1,
            "_view_count": null,
            "_view_module_version": "1.5.0",
            "orientation": "horizontal",
            "min": 0,
            "description_tooltip": null,
            "_model_module": "@jupyter-widgets/controls",
            "layout": "IPY_MODEL_ae62c9d3884f43b1b428ec1a56d92e7e"
          }
        },
        "a681bcfd19ad4a4789b816f01dc070e4": {
          "model_module": "@jupyter-widgets/controls",
          "model_name": "DescriptionStyleModel",
          "state": {
            "_view_name": "StyleView",
            "_model_name": "DescriptionStyleModel",
            "description_width": "",
            "_view_module": "@jupyter-widgets/base",
            "_model_module_version": "1.5.0",
            "_view_count": null,
            "_view_module_version": "1.2.0",
            "_model_module": "@jupyter-widgets/controls"
          }
        },
        "b2182bfb5e45436688caf34e25f38520": {
          "model_module": "@jupyter-widgets/base",
          "model_name": "LayoutModel",
          "state": {
            "_view_name": "LayoutView",
            "grid_template_rows": null,
            "right": null,
            "justify_content": null,
            "_view_module": "@jupyter-widgets/base",
            "overflow": null,
            "_model_module_version": "1.2.0",
            "_view_count": null,
            "flex_flow": null,
            "width": null,
            "min_width": null,
            "border": null,
            "align_items": null,
            "bottom": null,
            "_model_module": "@jupyter-widgets/base",
            "top": null,
            "grid_column": null,
            "overflow_y": null,
            "overflow_x": null,
            "grid_auto_flow": null,
            "grid_area": null,
            "grid_template_columns": null,
            "flex": null,
            "_model_name": "LayoutModel",
            "justify_items": null,
            "grid_row": null,
            "max_height": null,
            "align_content": null,
            "visibility": null,
            "align_self": null,
            "height": null,
            "min_height": null,
            "padding": null,
            "grid_auto_rows": null,
            "grid_gap": null,
            "max_width": null,
            "order": null,
            "_view_module_version": "1.2.0",
            "grid_template_areas": null,
            "object_position": null,
            "object_fit": null,
            "grid_auto_columns": null,
            "margin": null,
            "display": null,
            "left": null
          }
        },
        "0ff855f635924673b92a95152684ee63": {
          "model_module": "@jupyter-widgets/controls",
          "model_name": "ProgressStyleModel",
          "state": {
            "_view_name": "StyleView",
            "_model_name": "ProgressStyleModel",
            "description_width": "",
            "_view_module": "@jupyter-widgets/base",
            "_model_module_version": "1.5.0",
            "_view_count": null,
            "_view_module_version": "1.2.0",
            "bar_color": null,
            "_model_module": "@jupyter-widgets/controls"
          }
        },
        "ae62c9d3884f43b1b428ec1a56d92e7e": {
          "model_module": "@jupyter-widgets/base",
          "model_name": "LayoutModel",
          "state": {
            "_view_name": "LayoutView",
            "grid_template_rows": null,
            "right": null,
            "justify_content": null,
            "_view_module": "@jupyter-widgets/base",
            "overflow": null,
            "_model_module_version": "1.2.0",
            "_view_count": null,
            "flex_flow": null,
            "width": null,
            "min_width": null,
            "border": null,
            "align_items": null,
            "bottom": null,
            "_model_module": "@jupyter-widgets/base",
            "top": null,
            "grid_column": null,
            "overflow_y": null,
            "overflow_x": null,
            "grid_auto_flow": null,
            "grid_area": null,
            "grid_template_columns": null,
            "flex": null,
            "_model_name": "LayoutModel",
            "justify_items": null,
            "grid_row": null,
            "max_height": null,
            "align_content": null,
            "visibility": null,
            "align_self": null,
            "height": null,
            "min_height": null,
            "padding": null,
            "grid_auto_rows": null,
            "grid_gap": null,
            "max_width": null,
            "order": null,
            "_view_module_version": "1.2.0",
            "grid_template_areas": null,
            "object_position": null,
            "object_fit": null,
            "grid_auto_columns": null,
            "margin": null,
            "display": null,
            "left": null
          }
        },
        "6942d67efc6c4f3eb4d7cce2d4ac3551": {
          "model_module": "@jupyter-widgets/controls",
          "model_name": "VBoxModel",
          "state": {
            "_view_name": "VBoxView",
            "_dom_classes": [],
            "_model_name": "VBoxModel",
            "_view_module": "@jupyter-widgets/controls",
            "_model_module_version": "1.5.0",
            "_view_count": null,
            "_view_module_version": "1.5.0",
            "box_style": "",
            "layout": "IPY_MODEL_b93c0f75876543d29467aa6add5d7599",
            "_model_module": "@jupyter-widgets/controls",
            "children": [
              "IPY_MODEL_2cbca1c156114d13a64d35cf89a0b22d",
              "IPY_MODEL_f00b3067bbf04fa2a3d3a232c4880005"
            ]
          }
        },
        "b93c0f75876543d29467aa6add5d7599": {
          "model_module": "@jupyter-widgets/base",
          "model_name": "LayoutModel",
          "state": {
            "_view_name": "LayoutView",
            "grid_template_rows": null,
            "right": null,
            "justify_content": null,
            "_view_module": "@jupyter-widgets/base",
            "overflow": null,
            "_model_module_version": "1.2.0",
            "_view_count": null,
            "flex_flow": null,
            "width": null,
            "min_width": null,
            "border": null,
            "align_items": null,
            "bottom": null,
            "_model_module": "@jupyter-widgets/base",
            "top": null,
            "grid_column": null,
            "overflow_y": null,
            "overflow_x": null,
            "grid_auto_flow": null,
            "grid_area": null,
            "grid_template_columns": null,
            "flex": null,
            "_model_name": "LayoutModel",
            "justify_items": null,
            "grid_row": null,
            "max_height": null,
            "align_content": null,
            "visibility": null,
            "align_self": null,
            "height": null,
            "min_height": null,
            "padding": null,
            "grid_auto_rows": null,
            "grid_gap": null,
            "max_width": null,
            "order": null,
            "_view_module_version": "1.2.0",
            "grid_template_areas": null,
            "object_position": null,
            "object_fit": null,
            "grid_auto_columns": null,
            "margin": null,
            "display": null,
            "left": null
          }
        },
        "2cbca1c156114d13a64d35cf89a0b22d": {
          "model_module": "@jupyter-widgets/controls",
          "model_name": "LabelModel",
          "state": {
            "_view_name": "LabelView",
            "style": "IPY_MODEL_9f96e164deaa4abd93898ed092ff2bea",
            "_dom_classes": [],
            "description": "",
            "_model_name": "LabelModel",
            "placeholder": "​",
            "_view_module": "@jupyter-widgets/controls",
            "_model_module_version": "1.5.0",
            "value": " 0.01MB of 0.01MB uploaded (0.00MB deduped)\r",
            "_view_count": null,
            "_view_module_version": "1.5.0",
            "description_tooltip": null,
            "_model_module": "@jupyter-widgets/controls",
            "layout": "IPY_MODEL_4fbc1d9fc89c483e9ac3c732c506f541"
          }
        },
        "f00b3067bbf04fa2a3d3a232c4880005": {
          "model_module": "@jupyter-widgets/controls",
          "model_name": "FloatProgressModel",
          "state": {
            "_view_name": "ProgressView",
            "style": "IPY_MODEL_52a1fc28667d4e4a9445e64b80b806d5",
            "_dom_classes": [],
            "description": "",
            "_model_name": "FloatProgressModel",
            "bar_style": "",
            "max": 1,
            "_view_module": "@jupyter-widgets/controls",
            "_model_module_version": "1.5.0",
            "value": 1,
            "_view_count": null,
            "_view_module_version": "1.5.0",
            "orientation": "horizontal",
            "min": 0,
            "description_tooltip": null,
            "_model_module": "@jupyter-widgets/controls",
            "layout": "IPY_MODEL_1ea0bda8a4144df082b416099318d4d2"
          }
        },
        "9f96e164deaa4abd93898ed092ff2bea": {
          "model_module": "@jupyter-widgets/controls",
          "model_name": "DescriptionStyleModel",
          "state": {
            "_view_name": "StyleView",
            "_model_name": "DescriptionStyleModel",
            "description_width": "",
            "_view_module": "@jupyter-widgets/base",
            "_model_module_version": "1.5.0",
            "_view_count": null,
            "_view_module_version": "1.2.0",
            "_model_module": "@jupyter-widgets/controls"
          }
        },
        "4fbc1d9fc89c483e9ac3c732c506f541": {
          "model_module": "@jupyter-widgets/base",
          "model_name": "LayoutModel",
          "state": {
            "_view_name": "LayoutView",
            "grid_template_rows": null,
            "right": null,
            "justify_content": null,
            "_view_module": "@jupyter-widgets/base",
            "overflow": null,
            "_model_module_version": "1.2.0",
            "_view_count": null,
            "flex_flow": null,
            "width": null,
            "min_width": null,
            "border": null,
            "align_items": null,
            "bottom": null,
            "_model_module": "@jupyter-widgets/base",
            "top": null,
            "grid_column": null,
            "overflow_y": null,
            "overflow_x": null,
            "grid_auto_flow": null,
            "grid_area": null,
            "grid_template_columns": null,
            "flex": null,
            "_model_name": "LayoutModel",
            "justify_items": null,
            "grid_row": null,
            "max_height": null,
            "align_content": null,
            "visibility": null,
            "align_self": null,
            "height": null,
            "min_height": null,
            "padding": null,
            "grid_auto_rows": null,
            "grid_gap": null,
            "max_width": null,
            "order": null,
            "_view_module_version": "1.2.0",
            "grid_template_areas": null,
            "object_position": null,
            "object_fit": null,
            "grid_auto_columns": null,
            "margin": null,
            "display": null,
            "left": null
          }
        },
        "52a1fc28667d4e4a9445e64b80b806d5": {
          "model_module": "@jupyter-widgets/controls",
          "model_name": "ProgressStyleModel",
          "state": {
            "_view_name": "StyleView",
            "_model_name": "ProgressStyleModel",
            "description_width": "",
            "_view_module": "@jupyter-widgets/base",
            "_model_module_version": "1.5.0",
            "_view_count": null,
            "_view_module_version": "1.2.0",
            "bar_color": null,
            "_model_module": "@jupyter-widgets/controls"
          }
        },
        "1ea0bda8a4144df082b416099318d4d2": {
          "model_module": "@jupyter-widgets/base",
          "model_name": "LayoutModel",
          "state": {
            "_view_name": "LayoutView",
            "grid_template_rows": null,
            "right": null,
            "justify_content": null,
            "_view_module": "@jupyter-widgets/base",
            "overflow": null,
            "_model_module_version": "1.2.0",
            "_view_count": null,
            "flex_flow": null,
            "width": null,
            "min_width": null,
            "border": null,
            "align_items": null,
            "bottom": null,
            "_model_module": "@jupyter-widgets/base",
            "top": null,
            "grid_column": null,
            "overflow_y": null,
            "overflow_x": null,
            "grid_auto_flow": null,
            "grid_area": null,
            "grid_template_columns": null,
            "flex": null,
            "_model_name": "LayoutModel",
            "justify_items": null,
            "grid_row": null,
            "max_height": null,
            "align_content": null,
            "visibility": null,
            "align_self": null,
            "height": null,
            "min_height": null,
            "padding": null,
            "grid_auto_rows": null,
            "grid_gap": null,
            "max_width": null,
            "order": null,
            "_view_module_version": "1.2.0",
            "grid_template_areas": null,
            "object_position": null,
            "object_fit": null,
            "grid_auto_columns": null,
            "margin": null,
            "display": null,
            "left": null
          }
        }
      }
    }
  },
  "cells": [
    {
      "cell_type": "markdown",
      "metadata": {
        "id": "view-in-github",
        "colab_type": "text"
      },
      "source": [
        "<a href=\"https://colab.research.google.com/github/hindanjali/Assignment2_part_a/blob/main/part_a.ipynb\" target=\"_parent\"><img src=\"https://colab.research.google.com/assets/colab-badge.svg\" alt=\"Open In Colab\"/></a>"
      ]
    },
    {
      "cell_type": "code",
      "metadata": {
        "id": "t6tjaNY07XKE"
      },
      "source": [
        "import matplotlib.pyplot as plt\n",
        "import numpy as np\n",
        "import cv2\n",
        "import os\n",
        "import PIL\n",
        "import tensorflow as tf\n",
        "\n",
        "from tensorflow import keras\n",
        "from tensorflow.keras import layers\n",
        "from tensorflow.keras.models import Sequential\n",
        "from keras.layers import BatchNormalization"
      ],
      "execution_count": 5,
      "outputs": []
    },
    {
      "cell_type": "code",
      "metadata": {
        "colab": {
          "base_uri": "https://localhost:8080/"
        },
        "id": "xlGdSFv3_xHs",
        "outputId": "b1e303b4-80a0-4fe6-917c-12301e22e516"
      },
      "source": [
        "from google.colab import drive\n",
        "drive.mount('/content/drive')"
      ],
      "execution_count": 3,
      "outputs": [
        {
          "output_type": "stream",
          "text": [
            "Drive already mounted at /content/drive; to attempt to forcibly remount, call drive.mount(\"/content/drive\", force_remount=True).\n"
          ],
          "name": "stdout"
        }
      ]
    },
    {
      "cell_type": "code",
      "metadata": {
        "id": "_gSOXTCSUzHi"
      },
      "source": [
        "!unzip /content/drive/MyDrive/nature_12K.zip"
      ],
      "execution_count": null,
      "outputs": []
    },
    {
      "cell_type": "markdown",
      "metadata": {
        "id": "wmES4BZjzmMd"
      },
      "source": [
        ""
      ]
    },
    {
      "cell_type": "code",
      "metadata": {
        "id": "sP6WMMWhQZ2S"
      },
      "source": [
        "train_dir=\"/content/inaturalist_12K/train\""
      ],
      "execution_count": 6,
      "outputs": []
    },
    {
      "cell_type": "code",
      "metadata": {
        "id": "P8XDmmwYWKND"
      },
      "source": [
        "import pathlib\n",
        "train_dir = pathlib.Path(train_dir)"
      ],
      "execution_count": 7,
      "outputs": []
    },
    {
      "cell_type": "code",
      "metadata": {
        "id": "ps87I_V6WTO4"
      },
      "source": [
        "list(train_dir.glob('*/*.jpg'))"
      ],
      "execution_count": null,
      "outputs": []
    },
    {
      "cell_type": "code",
      "metadata": {
        "id": "mcCnxSQJWg1s",
        "colab": {
          "base_uri": "https://localhost:8080/"
        },
        "outputId": "e0f2cec3-bf42-4f85-d9a0-535d2665f5e0"
      },
      "source": [
        "image_count = len(list(train_dir.glob('*/*.jpg')))\n",
        "print(image_count)"
      ],
      "execution_count": 5,
      "outputs": [
        {
          "output_type": "stream",
          "text": [
            "9999\n"
          ],
          "name": "stdout"
        }
      ]
    },
    {
      "cell_type": "code",
      "metadata": {
        "id": "QB0YXBs8YoMM"
      },
      "source": [
        "test_dir=\"/content/inaturalist_12K/val\""
      ],
      "execution_count": 8,
      "outputs": []
    },
    {
      "cell_type": "code",
      "metadata": {
        "id": "xxCmjeeQYxvJ"
      },
      "source": [
        "import pathlib\n",
        "test_dir = pathlib.Path(test_dir)"
      ],
      "execution_count": 9,
      "outputs": []
    },
    {
      "cell_type": "code",
      "metadata": {
        "id": "j-rSkQ1-W0wh"
      },
      "source": [
        "Arachnida = list(test_dir.glob('Arachnida/*'))\n",
        "Arachnida[:5]"
      ],
      "execution_count": null,
      "outputs": []
    },
    {
      "cell_type": "code",
      "metadata": {
        "id": "tN76j2erWq2m"
      },
      "source": [
        "PIL.Image.open(str(Arachnida[100]))"
      ],
      "execution_count": null,
      "outputs": []
    },
    {
      "cell_type": "code",
      "metadata": {
        "id": "Q1kaRu5kXsrA"
      },
      "source": [
        "Amphibia = list(test_dir.glob('Amphibia/*'))\n",
        "PIL.Image.open(str(Amphibia[8]))"
      ],
      "execution_count": null,
      "outputs": []
    },
    {
      "cell_type": "code",
      "metadata": {
        "id": "j7_vWta-wjRl",
        "colab": {
          "base_uri": "https://localhost:8080/"
        },
        "outputId": "df4ec9b9-71de-4fe1-c86d-bc3bbdc30ec3"
      },
      "source": [
        "test_count = len(list(test_dir.glob('*/*.jpg')))\n",
        "print(test_count)"
      ],
      "execution_count": 9,
      "outputs": [
        {
          "output_type": "stream",
          "text": [
            "2000\n"
          ],
          "name": "stdout"
        }
      ]
    },
    {
      "cell_type": "code",
      "metadata": {
        "id": "gwpmlxGFwix7"
      },
      "source": [
        "train_nature_images_dict = {\n",
        "    'Amphibia': list(train_dir.glob('Amphibia/*')),\n",
        "    'Animalia': list(train_dir.glob('Animalia/*')),\n",
        "    'Arachnida': list(train_dir.glob('Arachnida/*')),\n",
        "    'Aves': list(train_dir.glob('Aves/*')),\n",
        "    'Fungi': list(train_dir.glob('Fungi/*')),\n",
        "    'Insecta': list(train_dir.glob('Insecta/*')),\n",
        "    'Mammalia': list(train_dir.glob('Mammalia/*')),\n",
        "    'Mollusca': list(train_dir.glob('Mollusca/*')),\n",
        "    'Plantae': list(train_dir.glob('Plantae/*')),\n",
        "    'Reptilia': list(train_dir.glob('Reptilia/*')),\n",
        "\n",
        "\n",
        "}"
      ],
      "execution_count": 10,
      "outputs": []
    },
    {
      "cell_type": "code",
      "metadata": {
        "id": "WMb3osYExAU6"
      },
      "source": [
        "nature_labels_dict = {\n",
        "    'Amphibia': 0,\n",
        "    'Animalia': 1,\n",
        "    'Arachnida': 2,\n",
        "    'Aves': 3,\n",
        "    'Fungi': 4,\n",
        "    'Insecta': 5,\n",
        "    'Mammalia': 6,\n",
        "    'Mollusca': 7,\n",
        "    'Plantae': 8,\n",
        "    'Reptilia': 9,\n",
        "\n",
        "}"
      ],
      "execution_count": 11,
      "outputs": []
    },
    {
      "cell_type": "code",
      "metadata": {
        "id": "AqLIF5nLxJso"
      },
      "source": [
        "x_train, y_train= [], []\n",
        "for nature, images in train_nature_images_dict.items():\n",
        "    for image in images:\n",
        "       # print(image)\n",
        "        img = cv2.imread(str(image))\n",
        "        try:\n",
        "          resized_img = cv2.resize(img,(120,120))#, cv2.INTER_AREA)\n",
        "        except cv2.error:\n",
        "          continue\n",
        "        x_train.append(resized_img)\n",
        "        y_train.append(nature_labels_dict[nature])\n",
        "        "
      ],
      "execution_count": 12,
      "outputs": []
    },
    {
      "cell_type": "code",
      "metadata": {
        "id": "CtryNdUz4A62"
      },
      "source": [
        "test_nature_images_dict = {\n",
        "    'Amphibia': list(test_dir.glob('Amphibia/*')),\n",
        "    'Animalia': list(test_dir.glob('Animalia/*')),\n",
        "    'Arachnida': list(test_dir.glob('Arachnida/*')),\n",
        "    'Aves': list(test_dir.glob('Aves/*')),\n",
        "    'Fungi': list(test_dir.glob('Fungi/*')),\n",
        "    'Insecta': list(test_dir.glob('Insecta/*')),\n",
        "    'Mammalia': list(test_dir.glob('Mammalia/*')),\n",
        "    'Mollusca': list(test_dir.glob('Mollusca/*')),\n",
        "    'Plantae': list(test_dir.glob('Plantae/*')),\n",
        "    'Reptilia': list(test_dir.glob('Reptilia/*')),\n",
        "\n",
        "}\n"
      ],
      "execution_count": 13,
      "outputs": []
    },
    {
      "cell_type": "code",
      "metadata": {
        "id": "6NprmldW3aZ7"
      },
      "source": [
        "x_test, y_test= [], []\n",
        "\n",
        "for nature, images in test_nature_images_dict.items():\n",
        "    for image in images:\n",
        "        #print(image)\n",
        "        img = cv2.imread(str(image))\n",
        "        resized_img = cv2.resize(img,(120,120))\n",
        "        x_test.append(resized_img)\n",
        "        y_test.append(nature_labels_dict[nature])"
      ],
      "execution_count": 14,
      "outputs": []
    },
    {
      "cell_type": "code",
      "metadata": {
        "id": "Wk7Pz9v4bd1E"
      },
      "source": [
        "from sklearn.model_selection import train_test_split\n",
        "x_train, x_val, y_train, y_val = train_test_split(x_train, y_train,test_size=0.10)# random_state=0)\n",
        "#print(len(x_train), len(x_val),len( y_train),len( y_val))"
      ],
      "execution_count": 15,
      "outputs": []
    },
    {
      "cell_type": "code",
      "metadata": {
        "id": "0SbLhqUSxue_"
      },
      "source": [
        "x_train = np.array(x_train)/255\n",
        "y_train = np.array(y_train)"
      ],
      "execution_count": 16,
      "outputs": []
    },
    {
      "cell_type": "code",
      "metadata": {
        "id": "tfErXiboeC0Y"
      },
      "source": [
        "x_val = np.array(x_val)/255\n",
        "y_val = np.array(y_val)"
      ],
      "execution_count": 17,
      "outputs": []
    },
    {
      "cell_type": "code",
      "metadata": {
        "id": "azKjARFxxvU9"
      },
      "source": [
        "x_test = np.array(x_test)/255\n",
        "y_test = np.array(y_test)"
      ],
      "execution_count": 18,
      "outputs": []
    },
    {
      "cell_type": "code",
      "metadata": {
        "id": "N8eSO7cKxvJd"
      },
      "source": [
        "#x_train = x_train/255\n",
        "#x_test = x_test/255\n",
        "#x_val = x_val/255"
      ],
      "execution_count": 15,
      "outputs": []
    },
    {
      "cell_type": "code",
      "metadata": {
        "id": "q4kRUI9SdQdN"
      },
      "source": [
        "data_augmentation = keras.Sequential(\n",
        "  [\n",
        "    layers.experimental.preprocessing.RandomFlip(\"horizontal\", \n",
        "                                                 input_shape=(120, \n",
        "                                                            120,\n",
        "                                                          3)),\n",
        "    layers.experimental.preprocessing.RandomRotation(0.1),\n",
        "    layers.experimental.preprocessing.RandomZoom(0.4),\n",
        "    \n",
        "  \n",
        "    \n",
        "  ]\n",
        ")"
      ],
      "execution_count": 20,
      "outputs": []
    },
    {
      "cell_type": "code",
      "metadata": {
        "id": "mX6U4arvK2Kb"
      },
      "source": [
        "def cnv(n_filter,s_filter,actv,n_neurons,epochs,dropout,data_aug):\n",
        "\n",
        "  output_classes = 10\n",
        "  #n_filter=16\n",
        "  # s_filter=3\n",
        "  #actv='relu'\n",
        "  #n_neurons=128\n",
        "  if (batch_norm=='yes'):\n",
        "  if (data_aug == 'yes'):\n",
        "    model = Sequential([\n",
        "    data_augmentation,\n",
        "    layers.Conv2D(n_filter, s_filter, padding='same', activation=actv),\n",
        "    layers.MaxPooling2D(),\n",
        "    tf.keras.layers.BatchNormalization(),\n",
        "    layers.Conv2D(n_filter, s_filter, padding='same', activation=actv),\n",
        "    layers.MaxPooling2D(),\n",
        "    layers.Conv2D(n_filter, s_filter, padding='same', activation=actv),\n",
        "    layers.MaxPooling2D(),\n",
        "    layers.Conv2D(n_filter, s_filter, padding='same', activation=actv),\n",
        "    layers.MaxPooling2D(),\n",
        "    layers.Conv2D(n_filter, s_filter, padding='same', activation=actv),\n",
        "    layers.MaxPooling2D(),\n",
        "    layers.Dropout(dropout),\n",
        "    layers.Flatten(),\n",
        "    layers.Dense(n_neurons, activation=actv),\n",
        "    layers.Dense(output_classes)\n",
        "    ])\n",
        "  else:\n",
        "    model = Sequential([\n",
        "    layers.Conv2D(16, 3, padding='same', activation='relu'),\n",
        "    layers.MaxPooling2D(),\n",
        "    layers.Conv2D(n_filter, s_filter, padding='same', activation=actv),\n",
        "    layers.MaxPooling2D(),\n",
        "    layers.Conv2D(n_filter, s_filter, padding='same', activation=actv),\n",
        "    layers.MaxPooling2D(),\n",
        "    layers.Conv2D(n_filter, s_filter, padding='same', activation=actv),\n",
        "    layers.MaxPooling2D(),\n",
        "    layers.Conv2D(n_filter, s_filter, padding='same', activation=actv),\n",
        "    layers.MaxPooling2D(),\n",
        "    layers.Dropout(dropout),\n",
        "    layers.Flatten(),\n",
        "    layers.Dense(n_neurons, activation=actv),\n",
        "    layers.Dense(output_classes)\n",
        "\n",
        "    ])\n",
        "  model.compile(optimizer='adam',loss=tf.keras.losses.SparseCategoricalCrossentropy(from_logits=True),metrics=['accuracy'])\n",
        "  # model.compile(loss='categorical_crossentropy', optimizer='adam', metrics=['accuracy'])\n",
        "\n",
        "  #model.fit(x_train, y_train, epochs=epochs)\n",
        "  model.fit(x_train, y_train, epochs=epochs,validation_data=(x_val,y_val),callbacks=[WandbCallback()])\n",
        "\n",
        "  #history.history['accuracy']\n",
        "  # print(history.history.keys())"
      ],
      "execution_count": 38,
      "outputs": []
    },
    {
      "cell_type": "code",
      "metadata": {
        "id": "Qar5C26pbJhU"
      },
      "source": [
        "cnv(16,3,'relu',128,1,0.2,'yes')"
      ],
      "execution_count": null,
      "outputs": []
    },
    {
      "cell_type": "code",
      "metadata": {
        "id": "LBF4R9cOOYKo"
      },
      "source": [
        "model.evaluate(x_test,y_test)"
      ],
      "execution_count": null,
      "outputs": []
    },
    {
      "cell_type": "code",
      "metadata": {
        "id": "EglMI1DfAOVB"
      },
      "source": [
        "!pip install wandb"
      ],
      "execution_count": null,
      "outputs": []
    },
    {
      "cell_type": "code",
      "metadata": {
        "colab": {
          "base_uri": "https://localhost:8080/"
        },
        "id": "wkazbBDqAln5",
        "outputId": "c678c328-fbce-46f5-898c-b6496f920739"
      },
      "source": [
        "import wandb\n",
        "from wandb.keras import WandbCallback\n",
        "\n",
        "wandb.login()"
      ],
      "execution_count": 30,
      "outputs": [
        {
          "output_type": "stream",
          "text": [
            "\u001b[34m\u001b[1mwandb\u001b[0m: Currently logged in as: \u001b[33mhindanjali\u001b[0m (use `wandb login --relogin` to force relogin)\n"
          ],
          "name": "stderr"
        },
        {
          "output_type": "execute_result",
          "data": {
            "text/plain": [
              "True"
            ]
          },
          "metadata": {
            "tags": []
          },
          "execution_count": 30
        }
      ]
    },
    {
      "cell_type": "code",
      "metadata": {
        "id": "NQq0KinKBlhm"
      },
      "source": [
        "sweep_config={\n",
        "    'method':'random',\n",
        "    'metrix' :\n",
        "    {'name':'accuracy',\n",
        "    'goal' : 'maximize'\n",
        "  },\n",
        "  'parameters':{\n",
        "   'n_filter':{'values':[16,32,64]},\n",
        "   'dropout':{'values':[0.2,0.3]},\n",
        "   'data_aug':{'values':['yes','no']},\n",
        "   'batch_norm':{'values':['yes','no']},\n",
        "   'learning_rate':{'values':[0.0001,0.001] },\n",
        "   'epochs':{'values':[3,5,7,10]},\n",
        "   'activation_f':{'values':['tanh','relu']},\n",
        "   'n_neurons':{'values':[32,64,128]},\n",
        "   's_filter':{'values':[3,5,10]},\n",
        "   'weight_decay':{'values':[0.0005,0.5]},\n",
        "   #'accuracy': 'accuracy'\n",
        "   #'accuracy':'acc'\n",
        "  }\n",
        "}\n"
      ],
      "execution_count": 39,
      "outputs": []
    },
    {
      "cell_type": "code",
      "metadata": {
        "id": "wHtzdvWBDPnC"
      },
      "source": [
        "def a1():\n",
        "  config_defaults={\n",
        "  'epochs':5,\n",
        "  'batch_size':16,\n",
        "  'learning_rate':0.0001,\n",
        "  'dropout':0.2,\n",
        "  'data_aug':'yes',\n",
        "  'batch_norm':'yes',\n",
        "  'n_filter':32,\n",
        "  'n_neurons':128,\n",
        "  's_filter':3,\n",
        "  'activation_f':'relu'\n",
        "  }\n",
        "\n",
        "  run=wandb.init(config=config_defaults)\n",
        "\n",
        "  config=wandb.config\n",
        "\n",
        "  cnv(config.n_filter,config.s_filter,config.activation_f,config.n_neurons,config.epochs,config.dropout,config.data_aug)\n",
        "\n",
        "  #model.summary()model.summary()\n",
        "  #model.summary()\n",
        "  #print(model.summary())\n",
        "  #model.compile(optimizer='adam',loss=tf.keras.losses.SparseCategoricalCrossentropy(from_logits=True),metrics=['accuracy'])\n",
        "\n",
        "  #model.fit(x_train, y_train, epochs=config.epochs,validation_data=(x_val,y_val),callbacks=[WandbCallback()])\n",
        "\n"
      ],
      "execution_count": 40,
      "outputs": []
    },
    {
      "cell_type": "code",
      "metadata": {
        "id": "pE-5yYMEgvMA"
      },
      "source": [
        "a1"
      ],
      "execution_count": null,
      "outputs": []
    },
    {
      "cell_type": "code",
      "metadata": {
        "colab": {
          "base_uri": "https://localhost:8080/"
        },
        "id": "XACHJoqFB4Zb",
        "outputId": "3180d841-affa-4788-abc7-01b06ee38aa9"
      },
      "source": [
        "sweep_id = wandb.sweep(sweep_config,project=\"Assign2_part_a\")"
      ],
      "execution_count": 41,
      "outputs": [
        {
          "output_type": "stream",
          "text": [
            "Create sweep with ID: qy1vvmd6\n",
            "Sweep URL: https://wandb.ai/hindanjali/Assign2_part_a/sweeps/qy1vvmd6\n"
          ],
          "name": "stdout"
        }
      ]
    },
    {
      "cell_type": "code",
      "metadata": {
        "colab": {
          "base_uri": "https://localhost:8080/",
          "height": 1000,
          "referenced_widgets": [
            "8cfad48dea3e4999bc402c7fab59d04b",
            "17537a8f02104e0fa06072f80d7e9eb8",
            "1d1bfe7b31fa4d69b694789f5d10d86e",
            "d44056c44d62469791c873c09f708190",
            "625f21e76d5c4ae7967b8bc3f8462fcb",
            "cf3776252d43485c9b0929a8912fdbfa",
            "5d7fcb1fb5db4214ac5094317e5327d3",
            "27b14c1305a144339d9a6c9959bdbf91",
            "d7e42ed544fa4742b0ed2c77f2502273",
            "565bcf52c6c841f48a2200a6d31e147c",
            "340257dec0e84c18adfd0613bf0d95cd",
            "94c519036c7943828c5a04a1cb7d563c",
            "2e543d72f05446bfb91e2c6aaea02843",
            "0272539884064d468045defa76fa1c65",
            "cdc3abb8c77e457e966e7f83336d0b00",
            "fcc064054993468e9357abd8b77b7fb4",
            "ceac090826de4cf2b9f289e56efcc508",
            "393a3aaa7f0c492cb390d038ed050a1b",
            "7f91db35a29c4dbe902b0405a12bfcd1",
            "cd3520cb2f61408f9703e33dad237257",
            "7d5dd44cab5f4280920292a002a18aab",
            "196a6e1777fe4a7c8111fdd6a9d39853",
            "0733597fc5bd4dcdbcf326e1b97c0617",
            "f9e8b8a420924c05b4596aba1ffee00b",
            "8de9331983c94d168ff1477c90f5faf8",
            "bf7705b17a614ad1a2c1085fca485060",
            "d7c6663a202a4cee80d38060d52629dc",
            "123f9f8089f8415c928cfd3880f4fe38",
            "a681bcfd19ad4a4789b816f01dc070e4",
            "b2182bfb5e45436688caf34e25f38520",
            "0ff855f635924673b92a95152684ee63",
            "ae62c9d3884f43b1b428ec1a56d92e7e",
            "6942d67efc6c4f3eb4d7cce2d4ac3551",
            "b93c0f75876543d29467aa6add5d7599",
            "2cbca1c156114d13a64d35cf89a0b22d",
            "f00b3067bbf04fa2a3d3a232c4880005",
            "9f96e164deaa4abd93898ed092ff2bea",
            "4fbc1d9fc89c483e9ac3c732c506f541",
            "52a1fc28667d4e4a9445e64b80b806d5",
            "1ea0bda8a4144df082b416099318d4d2"
          ]
        },
        "id": "uS5NcwU-B5Ep",
        "outputId": "ff0443e7-cb4a-4aae-deb6-8e92a935e919"
      },
      "source": [
        "wandb.agent(sweep_id,a1)"
      ],
      "execution_count": null,
      "outputs": [
        {
          "output_type": "stream",
          "text": [
            "\u001b[34m\u001b[1mwandb\u001b[0m: Agent Starting Run: ydr1jgyh with config:\n",
            "\u001b[34m\u001b[1mwandb\u001b[0m: \tactivation_f: tanh\n",
            "\u001b[34m\u001b[1mwandb\u001b[0m: \tbatch_norm: yes\n",
            "\u001b[34m\u001b[1mwandb\u001b[0m: \tdata_aug: yes\n",
            "\u001b[34m\u001b[1mwandb\u001b[0m: \tdropout: 0.2\n",
            "\u001b[34m\u001b[1mwandb\u001b[0m: \tepochs: 5\n",
            "\u001b[34m\u001b[1mwandb\u001b[0m: \tlearning_rate: 0.001\n",
            "\u001b[34m\u001b[1mwandb\u001b[0m: \tn_filter: 32\n",
            "\u001b[34m\u001b[1mwandb\u001b[0m: \tn_neurons: 32\n",
            "\u001b[34m\u001b[1mwandb\u001b[0m: \ts_filter: 5\n",
            "\u001b[34m\u001b[1mwandb\u001b[0m: \tweight_decay: 0.0005\n"
          ],
          "name": "stderr"
        },
        {
          "output_type": "display_data",
          "data": {
            "text/html": [
              "\n",
              "                Tracking run with wandb version 0.10.25<br/>\n",
              "                Syncing run <strong style=\"color:#cdcd00\">woven-sweep-1</strong> to <a href=\"https://wandb.ai\" target=\"_blank\">Weights & Biases</a> <a href=\"https://docs.wandb.com/integrations/jupyter.html\" target=\"_blank\">(Documentation)</a>.<br/>\n",
              "                Project page: <a href=\"https://wandb.ai/hindanjali/Assign2_part_a\" target=\"_blank\">https://wandb.ai/hindanjali/Assign2_part_a</a><br/>\n",
              "                Sweep page: <a href=\"https://wandb.ai/hindanjali/Assign2_part_a/sweeps/qy1vvmd6\" target=\"_blank\">https://wandb.ai/hindanjali/Assign2_part_a/sweeps/qy1vvmd6</a><br/>\n",
              "Run page: <a href=\"https://wandb.ai/hindanjali/Assign2_part_a/runs/ydr1jgyh\" target=\"_blank\">https://wandb.ai/hindanjali/Assign2_part_a/runs/ydr1jgyh</a><br/>\n",
              "                Run data is saved locally in <code>/content/wandb/run-20210410_195155-ydr1jgyh</code><br/><br/>\n",
              "            "
            ],
            "text/plain": [
              "<IPython.core.display.HTML object>"
            ]
          },
          "metadata": {
            "tags": []
          }
        },
        {
          "output_type": "stream",
          "text": [
            "Epoch 1/5\n",
            "282/282 [==============================] - 253s 891ms/step - loss: 2.2457 - accuracy: 0.1633 - val_loss: 2.0985 - val_accuracy: 0.2690\n",
            "Epoch 2/5\n",
            "282/282 [==============================] - 254s 899ms/step - loss: 2.1103 - accuracy: 0.2406 - val_loss: 2.1026 - val_accuracy: 0.2670\n",
            "Epoch 3/5\n",
            "282/282 [==============================] - 252s 894ms/step - loss: 2.0564 - accuracy: 0.2655 - val_loss: 2.1387 - val_accuracy: 0.2640\n",
            "Epoch 4/5\n",
            "282/282 [==============================] - 253s 896ms/step - loss: 2.0289 - accuracy: 0.2653 - val_loss: 2.0089 - val_accuracy: 0.2800\n",
            "Epoch 5/5\n",
            "282/282 [==============================] - 253s 897ms/step - loss: 1.9899 - accuracy: 0.2813 - val_loss: 1.9737 - val_accuracy: 0.3130\n"
          ],
          "name": "stdout"
        },
        {
          "output_type": "display_data",
          "data": {
            "text/html": [
              "<br/>Waiting for W&B process to finish, PID 1511<br/>Program ended successfully."
            ],
            "text/plain": [
              "<IPython.core.display.HTML object>"
            ]
          },
          "metadata": {
            "tags": []
          }
        },
        {
          "output_type": "display_data",
          "data": {
            "application/vnd.jupyter.widget-view+json": {
              "model_id": "8cfad48dea3e4999bc402c7fab59d04b",
              "version_minor": 0,
              "version_major": 2
            },
            "text/plain": [
              "VBox(children=(Label(value=' 1.21MB of 1.21MB uploaded (0.00MB deduped)\\r'), FloatProgress(value=1.0, max=1.0)…"
            ]
          },
          "metadata": {
            "tags": []
          }
        },
        {
          "output_type": "display_data",
          "data": {
            "text/html": [
              "Find user logs for this run at: <code>/content/wandb/run-20210410_195155-ydr1jgyh/logs/debug.log</code>"
            ],
            "text/plain": [
              "<IPython.core.display.HTML object>"
            ]
          },
          "metadata": {
            "tags": []
          }
        },
        {
          "output_type": "display_data",
          "data": {
            "text/html": [
              "Find internal logs for this run at: <code>/content/wandb/run-20210410_195155-ydr1jgyh/logs/debug-internal.log</code>"
            ],
            "text/plain": [
              "<IPython.core.display.HTML object>"
            ]
          },
          "metadata": {
            "tags": []
          }
        },
        {
          "output_type": "display_data",
          "data": {
            "text/html": [
              "<h3>Run summary:</h3><br/><style>\n",
              "    table.wandb td:nth-child(1) { padding: 0 10px; text-align: right }\n",
              "    </style><table class=\"wandb\">\n",
              "<tr><td>epoch</td><td>4</td></tr><tr><td>loss</td><td>1.99012</td></tr><tr><td>accuracy</td><td>0.28659</td></tr><tr><td>val_loss</td><td>1.97374</td></tr><tr><td>val_accuracy</td><td>0.313</td></tr><tr><td>_runtime</td><td>1272</td></tr><tr><td>_timestamp</td><td>1618085587</td></tr><tr><td>_step</td><td>4</td></tr><tr><td>best_val_loss</td><td>1.97374</td></tr><tr><td>best_epoch</td><td>4</td></tr></table>"
            ],
            "text/plain": [
              "<IPython.core.display.HTML object>"
            ]
          },
          "metadata": {
            "tags": []
          }
        },
        {
          "output_type": "display_data",
          "data": {
            "text/html": [
              "<h3>Run history:</h3><br/><style>\n",
              "    table.wandb td:nth-child(1) { padding: 0 10px; text-align: right }\n",
              "    </style><table class=\"wandb\">\n",
              "<tr><td>epoch</td><td>▁▃▅▆█</td></tr><tr><td>loss</td><td>█▄▃▂▁</td></tr><tr><td>accuracy</td><td>▁▅▆▇█</td></tr><tr><td>val_loss</td><td>▆▆█▂▁</td></tr><tr><td>val_accuracy</td><td>▂▁▁▃█</td></tr><tr><td>_runtime</td><td>▁▃▅▆█</td></tr><tr><td>_timestamp</td><td>▁▃▅▆█</td></tr><tr><td>_step</td><td>▁▃▅▆█</td></tr></table><br/>"
            ],
            "text/plain": [
              "<IPython.core.display.HTML object>"
            ]
          },
          "metadata": {
            "tags": []
          }
        },
        {
          "output_type": "display_data",
          "data": {
            "text/html": [
              "Synced 5 W&B file(s), 1 media file(s), 0 artifact file(s) and 1 other file(s)"
            ],
            "text/plain": [
              "<IPython.core.display.HTML object>"
            ]
          },
          "metadata": {
            "tags": []
          }
        },
        {
          "output_type": "display_data",
          "data": {
            "text/html": [
              "\n",
              "                    <br/>Synced <strong style=\"color:#cdcd00\">woven-sweep-1</strong>: <a href=\"https://wandb.ai/hindanjali/Assign2_part_a/runs/ydr1jgyh\" target=\"_blank\">https://wandb.ai/hindanjali/Assign2_part_a/runs/ydr1jgyh</a><br/>\n",
              "                "
            ],
            "text/plain": [
              "<IPython.core.display.HTML object>"
            ]
          },
          "metadata": {
            "tags": []
          }
        },
        {
          "output_type": "stream",
          "text": [
            "\u001b[34m\u001b[1mwandb\u001b[0m: Agent Starting Run: vm1hwk1b with config:\n",
            "\u001b[34m\u001b[1mwandb\u001b[0m: \tactivation_f: relU\n",
            "\u001b[34m\u001b[1mwandb\u001b[0m: \tbatch_norm: no\n",
            "\u001b[34m\u001b[1mwandb\u001b[0m: \tdata_aug: no\n",
            "\u001b[34m\u001b[1mwandb\u001b[0m: \tdropout: 0.2\n",
            "\u001b[34m\u001b[1mwandb\u001b[0m: \tepochs: 10\n",
            "\u001b[34m\u001b[1mwandb\u001b[0m: \tlearning_rate: 0.0001\n",
            "\u001b[34m\u001b[1mwandb\u001b[0m: \tn_filter: 64\n",
            "\u001b[34m\u001b[1mwandb\u001b[0m: \tn_neurons: 32\n",
            "\u001b[34m\u001b[1mwandb\u001b[0m: \ts_filter: 5\n",
            "\u001b[34m\u001b[1mwandb\u001b[0m: \tweight_decay: 0.5\n"
          ],
          "name": "stderr"
        },
        {
          "output_type": "display_data",
          "data": {
            "text/html": [
              "\n",
              "                Tracking run with wandb version 0.10.25<br/>\n",
              "                Syncing run <strong style=\"color:#cdcd00\">feasible-sweep-2</strong> to <a href=\"https://wandb.ai\" target=\"_blank\">Weights & Biases</a> <a href=\"https://docs.wandb.com/integrations/jupyter.html\" target=\"_blank\">(Documentation)</a>.<br/>\n",
              "                Project page: <a href=\"https://wandb.ai/hindanjali/Assign2_part_a\" target=\"_blank\">https://wandb.ai/hindanjali/Assign2_part_a</a><br/>\n",
              "                Sweep page: <a href=\"https://wandb.ai/hindanjali/Assign2_part_a/sweeps/qy1vvmd6\" target=\"_blank\">https://wandb.ai/hindanjali/Assign2_part_a/sweeps/qy1vvmd6</a><br/>\n",
              "Run page: <a href=\"https://wandb.ai/hindanjali/Assign2_part_a/runs/vm1hwk1b\" target=\"_blank\">https://wandb.ai/hindanjali/Assign2_part_a/runs/vm1hwk1b</a><br/>\n",
              "                Run data is saved locally in <code>/content/wandb/run-20210410_201311-vm1hwk1b</code><br/><br/>\n",
              "            "
            ],
            "text/plain": [
              "<IPython.core.display.HTML object>"
            ]
          },
          "metadata": {
            "tags": []
          }
        },
        {
          "output_type": "display_data",
          "data": {
            "text/html": [
              "<br/>Waiting for W&B process to finish, PID 1723<br/>Program failed with code 1.  Press ctrl-c to abort syncing."
            ],
            "text/plain": [
              "<IPython.core.display.HTML object>"
            ]
          },
          "metadata": {
            "tags": []
          }
        },
        {
          "output_type": "display_data",
          "data": {
            "application/vnd.jupyter.widget-view+json": {
              "model_id": "d7e42ed544fa4742b0ed2c77f2502273",
              "version_minor": 0,
              "version_major": 2
            },
            "text/plain": [
              "VBox(children=(Label(value=' 0.00MB of 0.00MB uploaded (0.00MB deduped)\\r'), FloatProgress(value=1.0, max=1.0)…"
            ]
          },
          "metadata": {
            "tags": []
          }
        },
        {
          "output_type": "display_data",
          "data": {
            "text/html": [
              "Find user logs for this run at: <code>/content/wandb/run-20210410_201311-vm1hwk1b/logs/debug.log</code>"
            ],
            "text/plain": [
              "<IPython.core.display.HTML object>"
            ]
          },
          "metadata": {
            "tags": []
          }
        },
        {
          "output_type": "display_data",
          "data": {
            "text/html": [
              "Find internal logs for this run at: <code>/content/wandb/run-20210410_201311-vm1hwk1b/logs/debug-internal.log</code>"
            ],
            "text/plain": [
              "<IPython.core.display.HTML object>"
            ]
          },
          "metadata": {
            "tags": []
          }
        },
        {
          "output_type": "display_data",
          "data": {
            "text/html": [
              "Synced 4 W&B file(s), 0 media file(s), 0 artifact file(s) and 0 other file(s)"
            ],
            "text/plain": [
              "<IPython.core.display.HTML object>"
            ]
          },
          "metadata": {
            "tags": []
          }
        },
        {
          "output_type": "display_data",
          "data": {
            "text/html": [
              "\n",
              "                    <br/>Synced <strong style=\"color:#cdcd00\">feasible-sweep-2</strong>: <a href=\"https://wandb.ai/hindanjali/Assign2_part_a/runs/vm1hwk1b\" target=\"_blank\">https://wandb.ai/hindanjali/Assign2_part_a/runs/vm1hwk1b</a><br/>\n",
              "                "
            ],
            "text/plain": [
              "<IPython.core.display.HTML object>"
            ]
          },
          "metadata": {
            "tags": []
          }
        },
        {
          "output_type": "stream",
          "text": [
            "Run vm1hwk1b errored: ValueError('Unknown activation function: relU')\n",
            "\u001b[34m\u001b[1mwandb\u001b[0m: \u001b[32m\u001b[41mERROR\u001b[0m Run vm1hwk1b errored: ValueError('Unknown activation function: relU')\n",
            "\u001b[34m\u001b[1mwandb\u001b[0m: Agent Starting Run: 4wn5e4os with config:\n",
            "\u001b[34m\u001b[1mwandb\u001b[0m: \tactivation_f: tanh\n",
            "\u001b[34m\u001b[1mwandb\u001b[0m: \tbatch_norm: no\n",
            "\u001b[34m\u001b[1mwandb\u001b[0m: \tdata_aug: no\n",
            "\u001b[34m\u001b[1mwandb\u001b[0m: \tdropout: 0.2\n",
            "\u001b[34m\u001b[1mwandb\u001b[0m: \tepochs: 7\n",
            "\u001b[34m\u001b[1mwandb\u001b[0m: \tlearning_rate: 0.0001\n",
            "\u001b[34m\u001b[1mwandb\u001b[0m: \tn_filter: 16\n",
            "\u001b[34m\u001b[1mwandb\u001b[0m: \tn_neurons: 128\n",
            "\u001b[34m\u001b[1mwandb\u001b[0m: \ts_filter: 10\n",
            "\u001b[34m\u001b[1mwandb\u001b[0m: \tweight_decay: 0.5\n"
          ],
          "name": "stderr"
        },
        {
          "output_type": "display_data",
          "data": {
            "text/html": [
              "\n",
              "                Tracking run with wandb version 0.10.25<br/>\n",
              "                Syncing run <strong style=\"color:#cdcd00\">rose-sweep-3</strong> to <a href=\"https://wandb.ai\" target=\"_blank\">Weights & Biases</a> <a href=\"https://docs.wandb.com/integrations/jupyter.html\" target=\"_blank\">(Documentation)</a>.<br/>\n",
              "                Project page: <a href=\"https://wandb.ai/hindanjali/Assign2_part_a\" target=\"_blank\">https://wandb.ai/hindanjali/Assign2_part_a</a><br/>\n",
              "                Sweep page: <a href=\"https://wandb.ai/hindanjali/Assign2_part_a/sweeps/qy1vvmd6\" target=\"_blank\">https://wandb.ai/hindanjali/Assign2_part_a/sweeps/qy1vvmd6</a><br/>\n",
              "Run page: <a href=\"https://wandb.ai/hindanjali/Assign2_part_a/runs/4wn5e4os\" target=\"_blank\">https://wandb.ai/hindanjali/Assign2_part_a/runs/4wn5e4os</a><br/>\n",
              "                Run data is saved locally in <code>/content/wandb/run-20210410_201321-4wn5e4os</code><br/><br/>\n",
              "            "
            ],
            "text/plain": [
              "<IPython.core.display.HTML object>"
            ]
          },
          "metadata": {
            "tags": []
          }
        },
        {
          "output_type": "stream",
          "text": [
            "Epoch 1/7\n",
            "282/282 [==============================] - 495s 2s/step - loss: 2.3263 - accuracy: 0.1316 - val_loss: 2.0949 - val_accuracy: 0.2470\n",
            "Epoch 2/7\n",
            "282/282 [==============================] - 490s 2s/step - loss: 2.1414 - accuracy: 0.2269 - val_loss: 2.1105 - val_accuracy: 0.2540\n",
            "Epoch 3/7\n",
            "282/282 [==============================] - 493s 2s/step - loss: 2.0433 - accuracy: 0.2665 - val_loss: 2.1436 - val_accuracy: 0.2390\n",
            "Epoch 4/7\n",
            "282/282 [==============================] - 490s 2s/step - loss: 1.9972 - accuracy: 0.2926 - val_loss: 2.0310 - val_accuracy: 0.2950\n",
            "Epoch 5/7\n",
            "282/282 [==============================] - 488s 2s/step - loss: 1.9630 - accuracy: 0.3042 - val_loss: 2.0032 - val_accuracy: 0.2890\n",
            "Epoch 6/7\n",
            "282/282 [==============================] - 478s 2s/step - loss: 1.9237 - accuracy: 0.3172 - val_loss: 1.9821 - val_accuracy: 0.3040\n",
            "Epoch 7/7\n",
            "282/282 [==============================] - 481s 2s/step - loss: 1.8763 - accuracy: 0.3368 - val_loss: 1.9833 - val_accuracy: 0.3060\n"
          ],
          "name": "stdout"
        },
        {
          "output_type": "display_data",
          "data": {
            "text/html": [
              "<br/>Waiting for W&B process to finish, PID 1752<br/>Program ended successfully."
            ],
            "text/plain": [
              "<IPython.core.display.HTML object>"
            ]
          },
          "metadata": {
            "tags": []
          }
        },
        {
          "output_type": "display_data",
          "data": {
            "application/vnd.jupyter.widget-view+json": {
              "model_id": "ceac090826de4cf2b9f289e56efcc508",
              "version_minor": 0,
              "version_major": 2
            },
            "text/plain": [
              "VBox(children=(Label(value=' 1.48MB of 1.48MB uploaded (0.00MB deduped)\\r'), FloatProgress(value=1.0, max=1.0)…"
            ]
          },
          "metadata": {
            "tags": []
          }
        },
        {
          "output_type": "display_data",
          "data": {
            "text/html": [
              "Find user logs for this run at: <code>/content/wandb/run-20210410_201321-4wn5e4os/logs/debug.log</code>"
            ],
            "text/plain": [
              "<IPython.core.display.HTML object>"
            ]
          },
          "metadata": {
            "tags": []
          }
        },
        {
          "output_type": "display_data",
          "data": {
            "text/html": [
              "Find internal logs for this run at: <code>/content/wandb/run-20210410_201321-4wn5e4os/logs/debug-internal.log</code>"
            ],
            "text/plain": [
              "<IPython.core.display.HTML object>"
            ]
          },
          "metadata": {
            "tags": []
          }
        },
        {
          "output_type": "display_data",
          "data": {
            "text/html": [
              "<h3>Run summary:</h3><br/><style>\n",
              "    table.wandb td:nth-child(1) { padding: 0 10px; text-align: right }\n",
              "    </style><table class=\"wandb\">\n",
              "<tr><td>epoch</td><td>6</td></tr><tr><td>loss</td><td>1.88583</td></tr><tr><td>accuracy</td><td>0.33059</td></tr><tr><td>val_loss</td><td>1.98327</td></tr><tr><td>val_accuracy</td><td>0.306</td></tr><tr><td>_runtime</td><td>3422</td></tr><tr><td>_timestamp</td><td>1618089023</td></tr><tr><td>_step</td><td>6</td></tr><tr><td>best_val_loss</td><td>1.9821</td></tr><tr><td>best_epoch</td><td>5</td></tr></table>"
            ],
            "text/plain": [
              "<IPython.core.display.HTML object>"
            ]
          },
          "metadata": {
            "tags": []
          }
        },
        {
          "output_type": "display_data",
          "data": {
            "text/html": [
              "<h3>Run history:</h3><br/><style>\n",
              "    table.wandb td:nth-child(1) { padding: 0 10px; text-align: right }\n",
              "    </style><table class=\"wandb\">\n",
              "<tr><td>epoch</td><td>▁▂▃▅▆▇█</td></tr><tr><td>loss</td><td>█▅▄▃▃▂▁</td></tr><tr><td>accuracy</td><td>▁▄▅▆▇▇█</td></tr><tr><td>val_loss</td><td>▆▇█▃▂▁▁</td></tr><tr><td>val_accuracy</td><td>▂▃▁▇▆██</td></tr><tr><td>_runtime</td><td>▁▂▃▅▆▇█</td></tr><tr><td>_timestamp</td><td>▁▂▃▅▆▇█</td></tr><tr><td>_step</td><td>▁▂▃▅▆▇█</td></tr></table><br/>"
            ],
            "text/plain": [
              "<IPython.core.display.HTML object>"
            ]
          },
          "metadata": {
            "tags": []
          }
        },
        {
          "output_type": "display_data",
          "data": {
            "text/html": [
              "Synced 5 W&B file(s), 1 media file(s), 0 artifact file(s) and 1 other file(s)"
            ],
            "text/plain": [
              "<IPython.core.display.HTML object>"
            ]
          },
          "metadata": {
            "tags": []
          }
        },
        {
          "output_type": "display_data",
          "data": {
            "text/html": [
              "\n",
              "                    <br/>Synced <strong style=\"color:#cdcd00\">rose-sweep-3</strong>: <a href=\"https://wandb.ai/hindanjali/Assign2_part_a/runs/4wn5e4os\" target=\"_blank\">https://wandb.ai/hindanjali/Assign2_part_a/runs/4wn5e4os</a><br/>\n",
              "                "
            ],
            "text/plain": [
              "<IPython.core.display.HTML object>"
            ]
          },
          "metadata": {
            "tags": []
          }
        },
        {
          "output_type": "stream",
          "text": [
            "\u001b[34m\u001b[1mwandb\u001b[0m: Agent Starting Run: d6yozxk4 with config:\n",
            "\u001b[34m\u001b[1mwandb\u001b[0m: \tactivation_f: relU\n",
            "\u001b[34m\u001b[1mwandb\u001b[0m: \tbatch_norm: yes\n",
            "\u001b[34m\u001b[1mwandb\u001b[0m: \tdata_aug: no\n",
            "\u001b[34m\u001b[1mwandb\u001b[0m: \tdropout: 0.3\n",
            "\u001b[34m\u001b[1mwandb\u001b[0m: \tepochs: 10\n",
            "\u001b[34m\u001b[1mwandb\u001b[0m: \tlearning_rate: 0.0001\n",
            "\u001b[34m\u001b[1mwandb\u001b[0m: \tn_filter: 16\n",
            "\u001b[34m\u001b[1mwandb\u001b[0m: \tn_neurons: 32\n",
            "\u001b[34m\u001b[1mwandb\u001b[0m: \ts_filter: 5\n",
            "\u001b[34m\u001b[1mwandb\u001b[0m: \tweight_decay: 0.5\n"
          ],
          "name": "stderr"
        },
        {
          "output_type": "display_data",
          "data": {
            "text/html": [
              "\n",
              "                Tracking run with wandb version 0.10.25<br/>\n",
              "                Syncing run <strong style=\"color:#cdcd00\">fancy-sweep-4</strong> to <a href=\"https://wandb.ai\" target=\"_blank\">Weights & Biases</a> <a href=\"https://docs.wandb.com/integrations/jupyter.html\" target=\"_blank\">(Documentation)</a>.<br/>\n",
              "                Project page: <a href=\"https://wandb.ai/hindanjali/Assign2_part_a\" target=\"_blank\">https://wandb.ai/hindanjali/Assign2_part_a</a><br/>\n",
              "                Sweep page: <a href=\"https://wandb.ai/hindanjali/Assign2_part_a/sweeps/qy1vvmd6\" target=\"_blank\">https://wandb.ai/hindanjali/Assign2_part_a/sweeps/qy1vvmd6</a><br/>\n",
              "Run page: <a href=\"https://wandb.ai/hindanjali/Assign2_part_a/runs/d6yozxk4\" target=\"_blank\">https://wandb.ai/hindanjali/Assign2_part_a/runs/d6yozxk4</a><br/>\n",
              "                Run data is saved locally in <code>/content/wandb/run-20210410_211028-d6yozxk4</code><br/><br/>\n",
              "            "
            ],
            "text/plain": [
              "<IPython.core.display.HTML object>"
            ]
          },
          "metadata": {
            "tags": []
          }
        },
        {
          "output_type": "display_data",
          "data": {
            "text/html": [
              "<br/>Waiting for W&B process to finish, PID 2077<br/>Program failed with code 1.  Press ctrl-c to abort syncing."
            ],
            "text/plain": [
              "<IPython.core.display.HTML object>"
            ]
          },
          "metadata": {
            "tags": []
          }
        },
        {
          "output_type": "display_data",
          "data": {
            "application/vnd.jupyter.widget-view+json": {
              "model_id": "8de9331983c94d168ff1477c90f5faf8",
              "version_minor": 0,
              "version_major": 2
            },
            "text/plain": [
              "VBox(children=(Label(value=' 0.00MB of 0.00MB uploaded (0.00MB deduped)\\r'), FloatProgress(value=1.0, max=1.0)…"
            ]
          },
          "metadata": {
            "tags": []
          }
        },
        {
          "output_type": "display_data",
          "data": {
            "text/html": [
              "Find user logs for this run at: <code>/content/wandb/run-20210410_211028-d6yozxk4/logs/debug.log</code>"
            ],
            "text/plain": [
              "<IPython.core.display.HTML object>"
            ]
          },
          "metadata": {
            "tags": []
          }
        },
        {
          "output_type": "display_data",
          "data": {
            "text/html": [
              "Find internal logs for this run at: <code>/content/wandb/run-20210410_211028-d6yozxk4/logs/debug-internal.log</code>"
            ],
            "text/plain": [
              "<IPython.core.display.HTML object>"
            ]
          },
          "metadata": {
            "tags": []
          }
        },
        {
          "output_type": "display_data",
          "data": {
            "text/html": [
              "Synced 4 W&B file(s), 0 media file(s), 0 artifact file(s) and 0 other file(s)"
            ],
            "text/plain": [
              "<IPython.core.display.HTML object>"
            ]
          },
          "metadata": {
            "tags": []
          }
        },
        {
          "output_type": "display_data",
          "data": {
            "text/html": [
              "\n",
              "                    <br/>Synced <strong style=\"color:#cdcd00\">fancy-sweep-4</strong>: <a href=\"https://wandb.ai/hindanjali/Assign2_part_a/runs/d6yozxk4\" target=\"_blank\">https://wandb.ai/hindanjali/Assign2_part_a/runs/d6yozxk4</a><br/>\n",
              "                "
            ],
            "text/plain": [
              "<IPython.core.display.HTML object>"
            ]
          },
          "metadata": {
            "tags": []
          }
        },
        {
          "output_type": "stream",
          "text": [
            "Run d6yozxk4 errored: ValueError('Unknown activation function: relU')\n",
            "\u001b[34m\u001b[1mwandb\u001b[0m: \u001b[32m\u001b[41mERROR\u001b[0m Run d6yozxk4 errored: ValueError('Unknown activation function: relU')\n",
            "\u001b[34m\u001b[1mwandb\u001b[0m: Agent Starting Run: agfdv4ad with config:\n",
            "\u001b[34m\u001b[1mwandb\u001b[0m: \tactivation_f: relU\n",
            "\u001b[34m\u001b[1mwandb\u001b[0m: \tbatch_norm: no\n",
            "\u001b[34m\u001b[1mwandb\u001b[0m: \tdata_aug: yes\n",
            "\u001b[34m\u001b[1mwandb\u001b[0m: \tdropout: 0.2\n",
            "\u001b[34m\u001b[1mwandb\u001b[0m: \tepochs: 7\n",
            "\u001b[34m\u001b[1mwandb\u001b[0m: \tlearning_rate: 0.001\n",
            "\u001b[34m\u001b[1mwandb\u001b[0m: \tn_filter: 16\n",
            "\u001b[34m\u001b[1mwandb\u001b[0m: \tn_neurons: 128\n",
            "\u001b[34m\u001b[1mwandb\u001b[0m: \ts_filter: 10\n",
            "\u001b[34m\u001b[1mwandb\u001b[0m: \tweight_decay: 0.0005\n"
          ],
          "name": "stderr"
        },
        {
          "output_type": "display_data",
          "data": {
            "text/html": [
              "\n",
              "                Tracking run with wandb version 0.10.25<br/>\n",
              "                Syncing run <strong style=\"color:#cdcd00\">sleek-sweep-5</strong> to <a href=\"https://wandb.ai\" target=\"_blank\">Weights & Biases</a> <a href=\"https://docs.wandb.com/integrations/jupyter.html\" target=\"_blank\">(Documentation)</a>.<br/>\n",
              "                Project page: <a href=\"https://wandb.ai/hindanjali/Assign2_part_a\" target=\"_blank\">https://wandb.ai/hindanjali/Assign2_part_a</a><br/>\n",
              "                Sweep page: <a href=\"https://wandb.ai/hindanjali/Assign2_part_a/sweeps/qy1vvmd6\" target=\"_blank\">https://wandb.ai/hindanjali/Assign2_part_a/sweeps/qy1vvmd6</a><br/>\n",
              "Run page: <a href=\"https://wandb.ai/hindanjali/Assign2_part_a/runs/agfdv4ad\" target=\"_blank\">https://wandb.ai/hindanjali/Assign2_part_a/runs/agfdv4ad</a><br/>\n",
              "                Run data is saved locally in <code>/content/wandb/run-20210410_211037-agfdv4ad</code><br/><br/>\n",
              "            "
            ],
            "text/plain": [
              "<IPython.core.display.HTML object>"
            ]
          },
          "metadata": {
            "tags": []
          }
        },
        {
          "output_type": "display_data",
          "data": {
            "text/html": [
              "<br/>Waiting for W&B process to finish, PID 2106<br/>Program failed with code 1.  Press ctrl-c to abort syncing."
            ],
            "text/plain": [
              "<IPython.core.display.HTML object>"
            ]
          },
          "metadata": {
            "tags": []
          }
        },
        {
          "output_type": "display_data",
          "data": {
            "application/vnd.jupyter.widget-view+json": {
              "model_id": "6942d67efc6c4f3eb4d7cce2d4ac3551",
              "version_minor": 0,
              "version_major": 2
            },
            "text/plain": [
              "VBox(children=(Label(value=' 0.00MB of 0.00MB uploaded (0.00MB deduped)\\r'), FloatProgress(value=1.0, max=1.0)…"
            ]
          },
          "metadata": {
            "tags": []
          }
        },
        {
          "output_type": "display_data",
          "data": {
            "text/html": [
              "Find user logs for this run at: <code>/content/wandb/run-20210410_211037-agfdv4ad/logs/debug.log</code>"
            ],
            "text/plain": [
              "<IPython.core.display.HTML object>"
            ]
          },
          "metadata": {
            "tags": []
          }
        },
        {
          "output_type": "display_data",
          "data": {
            "text/html": [
              "Find internal logs for this run at: <code>/content/wandb/run-20210410_211037-agfdv4ad/logs/debug-internal.log</code>"
            ],
            "text/plain": [
              "<IPython.core.display.HTML object>"
            ]
          },
          "metadata": {
            "tags": []
          }
        },
        {
          "output_type": "display_data",
          "data": {
            "text/html": [
              "Synced 4 W&B file(s), 0 media file(s), 0 artifact file(s) and 0 other file(s)"
            ],
            "text/plain": [
              "<IPython.core.display.HTML object>"
            ]
          },
          "metadata": {
            "tags": []
          }
        },
        {
          "output_type": "display_data",
          "data": {
            "text/html": [
              "\n",
              "                    <br/>Synced <strong style=\"color:#cdcd00\">sleek-sweep-5</strong>: <a href=\"https://wandb.ai/hindanjali/Assign2_part_a/runs/agfdv4ad\" target=\"_blank\">https://wandb.ai/hindanjali/Assign2_part_a/runs/agfdv4ad</a><br/>\n",
              "                "
            ],
            "text/plain": [
              "<IPython.core.display.HTML object>"
            ]
          },
          "metadata": {
            "tags": []
          }
        },
        {
          "output_type": "stream",
          "text": [
            "Run agfdv4ad errored: ValueError('Unknown activation function: relU')\n",
            "\u001b[34m\u001b[1mwandb\u001b[0m: \u001b[32m\u001b[41mERROR\u001b[0m Run agfdv4ad errored: ValueError('Unknown activation function: relU')\n",
            "\u001b[34m\u001b[1mwandb\u001b[0m: Sweep Agent: Waiting for job.\n",
            "500 response executing GraphQL.\n",
            "{\"errors\":[{\"message\":\"Post \\\"http://anaconda.default.svc.cluster.local/search\\\": context deadline exceeded\",\"path\":[\"agentHeartbeat\"]}],\"data\":{\"agentHeartbeat\":null}}\n",
            "\u001b[34m\u001b[1mwandb\u001b[0m: \u001b[32m\u001b[41mERROR\u001b[0m Error while calling W&B API: Post \"http://anaconda.default.svc.cluster.local/search\": context deadline exceeded (<Response [500]>)\n",
            "\u001b[34m\u001b[1mwandb\u001b[0m: Job received.\n",
            "\u001b[34m\u001b[1mwandb\u001b[0m: Agent Starting Run: ovmsbygu with config:\n",
            "\u001b[34m\u001b[1mwandb\u001b[0m: \tactivation_f: tanh\n",
            "\u001b[34m\u001b[1mwandb\u001b[0m: \tbatch_norm: yes\n",
            "\u001b[34m\u001b[1mwandb\u001b[0m: \tdata_aug: yes\n",
            "\u001b[34m\u001b[1mwandb\u001b[0m: \tdropout: 0.3\n",
            "\u001b[34m\u001b[1mwandb\u001b[0m: \tepochs: 7\n",
            "\u001b[34m\u001b[1mwandb\u001b[0m: \tlearning_rate: 0.001\n",
            "\u001b[34m\u001b[1mwandb\u001b[0m: \tn_filter: 32\n",
            "\u001b[34m\u001b[1mwandb\u001b[0m: \tn_neurons: 128\n",
            "\u001b[34m\u001b[1mwandb\u001b[0m: \ts_filter: 5\n",
            "\u001b[34m\u001b[1mwandb\u001b[0m: \tweight_decay: 0.5\n"
          ],
          "name": "stderr"
        },
        {
          "output_type": "display_data",
          "data": {
            "text/html": [
              "\n",
              "                Tracking run with wandb version 0.10.25<br/>\n",
              "                Syncing run <strong style=\"color:#cdcd00\">spring-sweep-6</strong> to <a href=\"https://wandb.ai\" target=\"_blank\">Weights & Biases</a> <a href=\"https://docs.wandb.com/integrations/jupyter.html\" target=\"_blank\">(Documentation)</a>.<br/>\n",
              "                Project page: <a href=\"https://wandb.ai/hindanjali/Assign2_part_a\" target=\"_blank\">https://wandb.ai/hindanjali/Assign2_part_a</a><br/>\n",
              "                Sweep page: <a href=\"https://wandb.ai/hindanjali/Assign2_part_a/sweeps/qy1vvmd6\" target=\"_blank\">https://wandb.ai/hindanjali/Assign2_part_a/sweeps/qy1vvmd6</a><br/>\n",
              "Run page: <a href=\"https://wandb.ai/hindanjali/Assign2_part_a/runs/ovmsbygu\" target=\"_blank\">https://wandb.ai/hindanjali/Assign2_part_a/runs/ovmsbygu</a><br/>\n",
              "                Run data is saved locally in <code>/content/wandb/run-20210410_211125-ovmsbygu</code><br/><br/>\n",
              "            "
            ],
            "text/plain": [
              "<IPython.core.display.HTML object>"
            ]
          },
          "metadata": {
            "tags": []
          }
        },
        {
          "output_type": "stream",
          "text": [
            "Epoch 1/7\n",
            "184/282 [==================>...........] - ETA: 1:24 - loss: 2.2644 - accuracy: 0.1540"
          ],
          "name": "stdout"
        }
      ]
    }
  ]
}