{
  "nbformat": 4,
  "nbformat_minor": 0,
  "metadata": {
    "colab": {
      "name": "part_b.ipynb",
      "provenance": [],
      "mount_file_id": "14efG1e389quOLTZpVM3-EZGp15X-zzOd",
      "authorship_tag": "ABX9TyMEsb9o52U2Q0taDv+WqXnD",
      "include_colab_link": true
    },
    "kernelspec": {
      "name": "python3",
      "display_name": "Python 3"
    },
    "language_info": {
      "name": "python"
    }
  },
  "cells": [
    {
      "cell_type": "markdown",
      "metadata": {
        "id": "view-in-github",
        "colab_type": "text"
      },
      "source": [
        "<a href=\"https://colab.research.google.com/github/hindanjali/Assignment2_part_a/blob/main/part_b.ipynb\" target=\"_parent\"><img src=\"https://colab.research.google.com/assets/colab-badge.svg\" alt=\"Open In Colab\"/></a>"
      ]
    },
    {
      "cell_type": "code",
      "metadata": {
        "id": "t6tjaNY07XKE"
      },
      "source": [
        "import matplotlib.pyplot as plt\n",
        "import numpy as np\n",
        "import cv2\n",
        "import os\n",
        "import PIL\n",
        "import tensorflow as tf\n",
        "from glob import glob\n",
        "from tensorflow import keras\n",
        "from tensorflow.keras import layers\n",
        "from keras.layers import Input, Lambda, Dense, Flatten\n",
        "from keras.models import Model\n",
        "from keras.preprocessing import image \n",
        "from tensorflow.keras.models import Sequential\n",
        "\n",
        "from keras.applications.xception import Xception\n",
        "from keras.applications.xception import preprocess_input\n",
        "\n",
        "from keras.applications.inception_v3 import InceptionV3\n",
        "from keras.applications.inception_v3 import preprocess_input\n",
        "\n",
        "from keras.applications.inception_resnet_v2 import InceptionResNetV2\n",
        "from keras.applications.inception_resnet_v2 import preprocess_input\n",
        "\n",
        "from keras.applications.resnet import ResNet50\n",
        "from keras.applications.resnet import preprocess_input\n",
        "%matplotlib inline\n"
      ],
      "execution_count": 3,
      "outputs": []
    },
    {
      "cell_type": "code",
      "metadata": {
        "colab": {
          "base_uri": "https://localhost:8080/"
        },
        "id": "xlGdSFv3_xHs",
        "outputId": "321b275a-ad2d-4dff-c272-8609d18bc854"
      },
      "source": [
        "from google.colab import drive\n",
        "drive.mount('/content/drive')"
      ],
      "execution_count": 3,
      "outputs": [
        {
          "output_type": "stream",
          "text": [
            "Mounted at /content/drive\n"
          ],
          "name": "stdout"
        }
      ]
    },
    {
      "cell_type": "code",
      "metadata": {
        "id": "_gSOXTCSUzHi"
      },
      "source": [
        "!unzip /content/drive/MyDrive/nature_12K.zip"
      ],
      "execution_count": null,
      "outputs": []
    },
    {
      "cell_type": "markdown",
      "metadata": {
        "id": "wmES4BZjzmMd"
      },
      "source": [
        ""
      ]
    },
    {
      "cell_type": "code",
      "metadata": {
        "id": "sP6WMMWhQZ2S"
      },
      "source": [
        "train_dir=\"/content/inaturalist_12K/train\""
      ],
      "execution_count": 4,
      "outputs": []
    },
    {
      "cell_type": "code",
      "metadata": {
        "id": "P8XDmmwYWKND"
      },
      "source": [
        "import pathlib\n",
        "train_dir = pathlib.Path(train_dir)"
      ],
      "execution_count": 5,
      "outputs": []
    },
    {
      "cell_type": "code",
      "metadata": {
        "id": "QB0YXBs8YoMM"
      },
      "source": [
        "test_dir=\"/content/inaturalist_12K/val\""
      ],
      "execution_count": 6,
      "outputs": []
    },
    {
      "cell_type": "code",
      "metadata": {
        "id": "xxCmjeeQYxvJ"
      },
      "source": [
        "import pathlib\n",
        "test_dir = pathlib.Path(test_dir)"
      ],
      "execution_count": 7,
      "outputs": []
    },
    {
      "cell_type": "code",
      "metadata": {
        "id": "gwpmlxGFwix7"
      },
      "source": [
        "train_nature_images_dict = {\n",
        "    'Amphibia': list(train_dir.glob('Amphibia/*')),\n",
        "    'Animalia': list(train_dir.glob('Animalia/*')),\n",
        "    'Arachnida': list(train_dir.glob('Arachnida/*')),\n",
        "    'Aves': list(train_dir.glob('Aves/*')),\n",
        "    'Fungi': list(train_dir.glob('Fungi/*')),\n",
        "    'Insecta': list(train_dir.glob('Insecta/*')),\n",
        "    'Mammalia': list(train_dir.glob('Mammalia/*')),\n",
        "    'Mollusca': list(train_dir.glob('Mollusca/*')),\n",
        "    'Plantae': list(train_dir.glob('Plantae/*')),\n",
        "    'Reptilia': list(train_dir.glob('Reptilia/*')),\n",
        "\n",
        "\n",
        "}"
      ],
      "execution_count": 8,
      "outputs": []
    },
    {
      "cell_type": "code",
      "metadata": {
        "id": "WMb3osYExAU6"
      },
      "source": [
        "nature_labels_dict = {\n",
        "    'Amphibia': 0,\n",
        "    'Animalia': 1,\n",
        "    'Arachnida': 2,\n",
        "    'Aves': 3,\n",
        "    'Fungi': 4,\n",
        "    'Insecta': 5,\n",
        "    'Mammalia': 6,\n",
        "    'Mollusca': 7,\n",
        "    'Plantae': 8,\n",
        "    'Reptilia': 9,\n",
        "\n",
        "}"
      ],
      "execution_count": 9,
      "outputs": []
    },
    {
      "cell_type": "code",
      "metadata": {
        "id": "AqLIF5nLxJso"
      },
      "source": [
        "x_train, y_train= [], []\n",
        "for nature, images in train_nature_images_dict.items():\n",
        "    for image in images:\n",
        "       # print(image)\n",
        "        img = cv2.imread(str(image))\n",
        "        try:\n",
        "          resized_img = cv2.resize(img,(120,120))#, cv2.INTER_AREA)\n",
        "        except cv2.error:\n",
        "          continue\n",
        "        x_train.append(resized_img)\n",
        "        y_train.append(nature_labels_dict[nature])\n",
        "        "
      ],
      "execution_count": 10,
      "outputs": []
    },
    {
      "cell_type": "code",
      "metadata": {
        "id": "CtryNdUz4A62"
      },
      "source": [
        "test_nature_images_dict = {\n",
        "    'Amphibia': list(test_dir.glob('Amphibia/*')),\n",
        "    'Animalia': list(test_dir.glob('Animalia/*')),\n",
        "    'Arachnida': list(test_dir.glob('Arachnida/*')),\n",
        "    'Aves': list(test_dir.glob('Aves/*')),\n",
        "    'Fungi': list(test_dir.glob('Fungi/*')),\n",
        "    'Insecta': list(test_dir.glob('Insecta/*')),\n",
        "    'Mammalia': list(test_dir.glob('Mammalia/*')),\n",
        "    'Mollusca': list(test_dir.glob('Mollusca/*')),\n",
        "    'Plantae': list(test_dir.glob('Plantae/*')),\n",
        "    'Reptilia': list(test_dir.glob('Reptilia/*')),\n",
        "\n",
        "}\n"
      ],
      "execution_count": 11,
      "outputs": []
    },
    {
      "cell_type": "code",
      "metadata": {
        "id": "6NprmldW3aZ7"
      },
      "source": [
        "x_test, y_test= [], []\n",
        "\n",
        "for nature, images in test_nature_images_dict.items():\n",
        "    for image in images:\n",
        "        #print(image)\n",
        "        img = cv2.imread(str(image))\n",
        "        resized_img = cv2.resize(img,(120,120))\n",
        "        x_test.append(resized_img)\n",
        "        y_test.append(nature_labels_dict[nature])"
      ],
      "execution_count": 12,
      "outputs": []
    },
    {
      "cell_type": "code",
      "metadata": {
        "id": "Wk7Pz9v4bd1E"
      },
      "source": [
        "from sklearn.model_selection import train_test_split\n",
        "x_train, x_val, y_train, y_val = train_test_split(x_train, y_train,test_size=0.10)# random_state=0)\n",
        "#print(len(x_train), len(x_val),len( y_train),len( y_val))"
      ],
      "execution_count": 13,
      "outputs": []
    },
    {
      "cell_type": "code",
      "metadata": {
        "id": "0SbLhqUSxue_"
      },
      "source": [
        "x_train = np.array(x_train)/255\n",
        "y_train = np.array(y_train)"
      ],
      "execution_count": 14,
      "outputs": []
    },
    {
      "cell_type": "code",
      "metadata": {
        "id": "tfErXiboeC0Y"
      },
      "source": [
        "x_val = np.array(x_val)/255\n",
        "y_val = np.array(y_val)"
      ],
      "execution_count": 15,
      "outputs": []
    },
    {
      "cell_type": "code",
      "metadata": {
        "id": "azKjARFxxvU9"
      },
      "source": [
        "x_test = np.array(x_test)/255\n",
        "y_test = np.array(y_test)"
      ],
      "execution_count": 16,
      "outputs": []
    },
    {
      "cell_type": "code",
      "metadata": {
        "id": "N8eSO7cKxvJd"
      },
      "source": [
        "#x_train = x_train/255\n",
        "#x_test = x_test/255a\n",
        "#x_val = x_val/255"
      ],
      "execution_count": 17,
      "outputs": []
    },
    {
      "cell_type": "code",
      "metadata": {
        "id": "zUDFaLGh4SO3"
      },
      "source": [
        "IMAGE_SIZE = [120, 120]"
      ],
      "execution_count": 18,
      "outputs": []
    },
    {
      "cell_type": "code",
      "metadata": {
        "id": "lSput3gd5xOm"
      },
      "source": [
        "num_classes=10"
      ],
      "execution_count": 19,
      "outputs": []
    },
    {
      "cell_type": "code",
      "metadata": {
        "id": "Nl_e1otOzAai"
      },
      "source": [
        "!pip install wandb"
      ],
      "execution_count": null,
      "outputs": []
    },
    {
      "cell_type": "code",
      "metadata": {
        "colab": {
          "base_uri": "https://localhost:8080/"
        },
        "id": "GPy2GqhZzG9A",
        "outputId": "126ab0be-2de3-4f17-bbfe-c0b047842120"
      },
      "source": [
        "import wandb\n",
        "from wandb.keras import WandbCallback\n",
        "\n",
        "wandb.login()"
      ],
      "execution_count": 25,
      "outputs": [
        {
          "output_type": "stream",
          "text": [
            "\u001b[34m\u001b[1mwandb\u001b[0m: Currently logged in as: \u001b[33mhindanjali\u001b[0m (use `wandb login --relogin` to force relogin)\n"
          ],
          "name": "stderr"
        },
        {
          "output_type": "execute_result",
          "data": {
            "text/plain": [
              "True"
            ]
          },
          "metadata": {
            "tags": []
          },
          "execution_count": 25
        }
      ]
    },
    {
      "cell_type": "code",
      "metadata": {
        "id": "HPy2RLhW2Kr9"
      },
      "source": [
        "sweep_config={\n",
        "    'method':'random',\n",
        "    'metrix' :\n",
        "    {'name':'accuracy',\n",
        "    'goal' : 'maximize'\n",
        "  },\n",
        "  'parameters':{\n",
        "   'n_filter':{'values':[16,32,64]},\n",
        "   'dropout':{'values':[0.2,0.3]},\n",
        "   'data_aug':{'values':['yes','no']},\n",
        "   'batch_norm':{'values':['yes','no']},\n",
        "   'learning_rate':{'values':[0.0001,0.001] },\n",
        "   'epochs':{'values':[5]},\n",
        "   'activation_f':{'values':['tanh','relu']},\n",
        "   'n_neurons':{'values':[32,64,128]},\n",
        "   's_filter':{'values':[3,5,10]},\n",
        "   'weight_decay':{'values':[0.0005,0.5]}\n",
        "  }\n",
        "}\n"
      ],
      "execution_count": 24,
      "outputs": []
    },
    {
      "cell_type": "markdown",
      "metadata": {
        "id": "aHRr5EUWDBNk"
      },
      "source": [
        "InceptionV3"
      ]
    },
    {
      "cell_type": "code",
      "metadata": {
        "id": "fxvlphDq0F84"
      },
      "source": [
        "def inc3():\n",
        "  inc = InceptionV3(input_shape=IMAGE_SIZE + [3], weights='imagenet', include_top=False)\n",
        "  for layer in inc.layers:\n",
        "    layer.trainable = False\n",
        "  x = Flatten()(inc.output)\n",
        "  prediction = Dense(num_classes, activation='relu')(x)\n",
        "  model = Model(inputs=inc.input, outputs=prediction)\n",
        "  model.summary()\n",
        "\n",
        "  #model.compile(loss='categorical_crossentropy',optimizer='adam', metrics=['accuracy'])\n",
        "  model.compile(\n",
        "  optimizer=\"adam\",\n",
        "  loss=tf.keras.losses.SparseCategoricalCrossentropy(from_logits=True),\n",
        "  metrics=['acc'])\n",
        "  model.fit(x_train, y_train, epochs=5,validation_data=(x_val,y_val),callbacks=[WandbCallback()])"
      ],
      "execution_count": 25,
      "outputs": []
    },
    {
      "cell_type": "code",
      "metadata": {
        "id": "HsK67zoVzHyH"
      },
      "source": [
        "def a1():\n",
        "  config_defaults={\n",
        "  'epochs':5,\n",
        "  'activation_f':'relu'\n",
        "  }\n",
        "\n",
        "  run=wandb.init(config=config_defaults)\n",
        "\n",
        "  config=wandb.config\n",
        "\n",
        "  inc3()\n",
        "  #model.summary()model.summary()\n",
        "  #model.summary()\n",
        "  #print(model.summary())\n",
        "  #model.compile(optimizer='adam',loss=tf.keras.losses.SparseCategoricalCrossentropy(from_logits=True),metrics=['accuracy'])\n",
        "\n",
        " # model.fit(x_train, y_train, epochs=config.epochs,validation_data=(x_val,y_val),callbacks=[WandbCallback()])\n",
        "\n"
      ],
      "execution_count": 26,
      "outputs": []
    },
    {
      "cell_type": "code",
      "metadata": {
        "colab": {
          "base_uri": "https://localhost:8080/"
        },
        "id": "CSw1S5VRzMG3",
        "outputId": "bdfe39d4-29bb-47b0-e6c1-405f55494ab1"
      },
      "source": [
        "sweep_id = wandb.sweep(sweep_config,project=\"Assign2_part_b\")"
      ],
      "execution_count": 27,
      "outputs": [
        {
          "output_type": "stream",
          "text": [
            "Create sweep with ID: piu689re\n",
            "Sweep URL: https://wandb.ai/hindanjali/Assign2_part_b/sweeps/piu689re\n"
          ],
          "name": "stdout"
        }
      ]
    },
    {
      "cell_type": "code",
      "metadata": {
        "id": "Sm6bmARWzMDU"
      },
      "source": [
        "wandb.agent(sweep_id,a1)"
      ],
      "execution_count": null,
      "outputs": []
    },
    {
      "cell_type": "markdown",
      "metadata": {
        "id": "yxN0peLGFlEr"
      },
      "source": [
        "InceptionResNetV2"
      ]
    },
    {
      "cell_type": "code",
      "metadata": {
        "id": "Ie57z_dO-Qnh"
      },
      "source": [
        "def iresnet():\n",
        "  incresnet = InceptionResNetV2(input_shape=IMAGE_SIZE + [3], weights='imagenet', include_top=False)\n",
        "  for layer in incresnet.layers:\n",
        "    layer.trainable = False\n",
        "  x = Flatten()(incresnet.output)\n",
        "  prediction = Dense(num_classes, activation='relu')(x)\n",
        "  model = Model(inputs=incresnet.input, outputs=prediction)\n",
        "  #model.summary()\n",
        "\n",
        "  #model.compile(loss='categorical_crossentropy',optimizer='adam', metrics=['accuracy'])\n",
        "  model.compile(\n",
        "  optimizer=\"adam\",\n",
        "  loss=tf.keras.losses.SparseCategoricalCrossentropy(from_logits=True),\n",
        "  metrics=['acc'])\n",
        "  model.fit(x_train, y_train, epochs=5,validation_data=(x_val,y_val),callbacks=[WandbCallback()])"
      ],
      "execution_count": 1,
      "outputs": []
    },
    {
      "cell_type": "code",
      "metadata": {
        "id": "PLLHwfFa-nz_"
      },
      "source": [
        "def a2():\n",
        "  config_defaults={\n",
        "  'epochs':5,\n",
        "  'activation_f':'relu'\n",
        "  }\n",
        "\n",
        "  run=wandb.init(config=config_defaults)\n",
        "\n",
        "  config=wandb.config\n",
        "\n",
        "  iresnet()\n",
        "  #model.summary()model.summary()\n",
        "  #model.summary()\n",
        "  #print(model.summary())\n",
        "  #model.compile(optimizer='adam',loss=tf.keras.losses.SparseCategoricalCrossentropy(from_logits=True),metrics=['accuracy'])\n",
        "\n",
        " # model.fit(x_train, y_train, epochs=config.epochs,validation_data=(x_val,y_val),callbacks=[WandbCallback()])\n",
        "\n"
      ],
      "execution_count": 2,
      "outputs": []
    },
    {
      "cell_type": "code",
      "metadata": {
        "id": "cD6CVhkQ-1ft"
      },
      "source": [
        "wandb.agent(sweep_id,a2)"
      ],
      "execution_count": null,
      "outputs": []
    },
    {
      "cell_type": "markdown",
      "metadata": {
        "id": "L9ImVRlvFq9B"
      },
      "source": [
        "ResNet50"
      ]
    },
    {
      "cell_type": "code",
      "metadata": {
        "id": "tiTWoWHult7e"
      },
      "source": [
        "run=wandb.init()"
      ],
      "execution_count": null,
      "outputs": []
    },
    {
      "cell_type": "code",
      "metadata": {
        "id": "0713h1VS_5Y_"
      },
      "source": [
        "def resnet():\n",
        "  res =  ResNet50(input_shape=IMAGE_SIZE + [3], weights='imagenet', include_top=False)\n",
        "  for layer in res.layers:\n",
        "    layer.trainable = False\n",
        "  x = Flatten()(res.output)\n",
        "  prediction = Dense(num_classes, activation='relu')(x)\n",
        "  model = Model(inputs=res.input, outputs=prediction)\n",
        "  #model.summary()\n",
        "\n",
        "  #model.compile(loss='categorical_crossentropy',optimizer='adam', metrics=['accuracy'])\n",
        "  model.compile(\n",
        "  optimizer=\"adam\",\n",
        "  loss=tf.keras.losses.SparseCategoricalCrossentropy(from_logits=True),\n",
        "  metrics=['acc'])\n",
        "  model.fit(x_train, y_train, epochs=1,validation_data=(x_val,y_val),callbacks=[WandbCallback()])"
      ],
      "execution_count": 34,
      "outputs": []
    },
    {
      "cell_type": "code",
      "metadata": {
        "id": "koLnwtejoKnu"
      },
      "source": [
        "resnet()"
      ],
      "execution_count": null,
      "outputs": []
    },
    {
      "cell_type": "code",
      "metadata": {
        "id": "Q0TEmo9vAJsK"
      },
      "source": [
        "def a3():\n",
        "  config_defaults={\n",
        "  'epochs':5,\n",
        "  'activation_f':'relu'\n",
        "  }\n",
        "\n",
        "  run=wandb.init(config=config_defaults)\n",
        "\n",
        "  config=wandb.config\n",
        "\n",
        "  resnet()\n",
        "  #model.summary()model.summary()\n",
        "  #model.summary()\n",
        "  #print(model.summary())\n",
        "  #model.compile(optimizer='adam',loss=tf.keras.losses.SparseCategoricalCrossentropy(from_logits=True),metrics=['accuracy'])\n",
        "\n",
        " # model.fit(x_train, y_train, epochs=config.epochs,validation_data=(x_val,y_val),callbacks=[WandbCallback()])\n",
        "\n"
      ],
      "execution_count": 2,
      "outputs": []
    },
    {
      "cell_type": "code",
      "metadata": {
        "id": "f34PBGFYFKOY"
      },
      "source": [
        "wandb.agent(sweep_id,a3)"
      ],
      "execution_count": null,
      "outputs": []
    },
    {
      "cell_type": "markdown",
      "metadata": {
        "id": "nniFQZK1F0mw"
      },
      "source": [
        "Xception"
      ]
    },
    {
      "cell_type": "code",
      "metadata": {
        "id": "-b4ptwhHeRSA"
      },
      "source": [
        "run=wandb.init()"
      ],
      "execution_count": null,
      "outputs": []
    },
    {
      "cell_type": "code",
      "metadata": {
        "id": "77B2YAAtBHWi"
      },
      "source": [
        "def xcep():\n",
        "  xc =  ResNet50(input_shape=IMAGE_SIZE + [3], weights='imagenet', include_top=False)\n",
        "  for layer in xc.layers:\n",
        "    layer.trainable = False\n",
        "  x = Flatten()(xc.output)\n",
        "  prediction = Dense(num_classes, activation='relu')(x)\n",
        "  model = Model(inputs=xc.input, outputs=prediction)\n",
        "  #model.summary()\n",
        "\n",
        "  #model.compile(loss='categorical_crossentropy',optimizer='adam', metrics=['accuracy'])\n",
        "  model.compile(\n",
        "  optimizer=\"adam\",\n",
        "  loss=tf.keras.losses.SparseCategoricalCrossentropy(from_logits=True),\n",
        "  metrics=['acc'])\n",
        "  model.fit(x_train, y_train, epochs=5,validation_data=(x_val,y_val),callbacks=[WandbCallback()])"
      ],
      "execution_count": 26,
      "outputs": []
    },
    {
      "cell_type": "code",
      "metadata": {
        "id": "XttVRVfNdQXv"
      },
      "source": [
        "xcep()"
      ],
      "execution_count": null,
      "outputs": []
    },
    {
      "cell_type": "code",
      "metadata": {
        "id": "SinyvfPrBHOG"
      },
      "source": [
        "def a4():\n",
        "  config_defaults={\n",
        "  'epochs':5,\n",
        "  'activation_f':'relu'\n",
        "  }\n",
        "\n",
        "  run=wandb.init(config=config_defaults)\n",
        "\n",
        "  config=wandb.config\n",
        "\n",
        "  xcep()\n",
        "  #model.summary()model.summary()\n",
        "  #model.summary()\n",
        "  #print(model.summary())\n",
        "  #model.compile(optimizer='adam',loss=tf.keras.losses.SparseCategoricalCrossentropy(from_logits=True),metrics=['accuracy'])\n",
        "\n",
        " # model.fit(x_train, y_train, epochs=config.epochs,validation_data=(x_val,y_val),callbacks=[WandbCallback()])\n",
        "\n"
      ],
      "execution_count": null,
      "outputs": []
    },
    {
      "cell_type": "code",
      "metadata": {
        "id": "XGTcYdMVBUrF"
      },
      "source": [
        "wandb.agent(sweep_id,a4)"
      ],
      "execution_count": null,
      "outputs": []
    },
    {
      "cell_type": "code",
      "metadata": {
        "id": "1iEQ7zeZJwfM"
      },
      "source": [
        "model=['InceptionV3','ResNet50','InceptionResNetV2','Xception']\n",
        "av_cpu=[98.59,44.133,44.15,30.717]\n",
        "av_mem=[52.5,44,44.15,53.9]\n"
      ],
      "execution_count": 5,
      "outputs": []
    },
    {
      "cell_type": "code",
      "metadata": {
        "id": "TiNrveXzMCh6"
      },
      "source": [
        "n = np.arange(len(model))"
      ],
      "execution_count": 22,
      "outputs": []
    },
    {
      "cell_type": "code",
      "metadata": {
        "colab": {
          "base_uri": "https://localhost:8080/",
          "height": 312
        },
        "id": "s1uctxqBLcqp",
        "outputId": "0222fae8-43e3-443a-9a4f-a03ea9c19da5"
      },
      "source": [
        "plt.bar(n-0.2,av_cpu, width=0.4, label=\"av_cpu\",color='purple')\n",
        "plt.bar(n+0.2,av_mem, width=0.4,label=\"av_mem\",color='pink')\n",
        "\n",
        "plt.xticks(xpos,model)\n",
        "plt.xlabel(\"Models\",color='purple')\n",
        "plt.title('Model comparision',color='purple')\n",
        "plt.legend()"
      ],
      "execution_count": 40,
      "outputs": [
        {
          "output_type": "execute_result",
          "data": {
            "text/plain": [
              "<matplotlib.legend.Legend at 0x7f1c1cb54690>"
            ]
          },
          "metadata": {
            "tags": []
          },
          "execution_count": 40
        },
        {
          "output_type": "display_data",
          "data": {
            "image/png": "[encoded data removed]",
            "text/plain": [
              "<Figure size 432x288 with 1 Axes>"
            ]
          },
          "metadata": {
            "tags": [],
            "needs_background": "light"
          }
        }
      ]
    }
  ]
}